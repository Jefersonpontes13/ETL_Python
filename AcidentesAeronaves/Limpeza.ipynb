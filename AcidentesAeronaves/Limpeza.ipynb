{
 "cells": [
  {
   "cell_type": "code",
   "execution_count": 1,
   "outputs": [
    {
     "data": {
      "text/plain": "'coding: utf-8'"
     },
     "execution_count": 1,
     "metadata": {},
     "output_type": "execute_result"
    }
   ],
   "source": [
    "\"\"\"coding: utf-8\"\"\""
   ],
   "metadata": {
    "collapsed": false,
    "pycharm": {
     "name": "#%%\n"
    }
   }
  },
  {
   "cell_type": "code",
   "execution_count": 2,
   "outputs": [],
   "source": [
    "import pandas as pd"
   ],
   "metadata": {
    "collapsed": false,
    "pycharm": {
     "name": "#%%\n"
    }
   }
  },
  {
   "cell_type": "code",
   "execution_count": 3,
   "outputs": [],
   "source": [
    "df_AcidentesAeronaves = pd.read_csv(\"ocorrencia_2010_2020.csv\", sep=\";\", parse_dates=[\"ocorrencia_dia\"], dayfirst=True)"
   ],
   "metadata": {
    "collapsed": false,
    "pycharm": {
     "name": "#%%\n"
    }
   }
  },
  {
   "cell_type": "code",
   "execution_count": 4,
   "outputs": [
    {
     "data": {
      "text/plain": "codigo_ocorrencia                         40349\ncodigo_ocorrencia2                        40349\nocorrencia_classificacao              INCIDENTE\nocorrencia_cidade                         BELÉM\nocorrencia_uf                                PA\nocorrencia_aerodromo                       SBBE\nocorrencia_dia              2010-01-03 00:00:00\nocorrencia_hora                        11:05:00\ntotal_recomendacoes                           0\nName: 1, dtype: object"
     },
     "execution_count": 4,
     "metadata": {},
     "output_type": "execute_result"
    }
   ],
   "source": [
    "df_AcidentesAeronaves.loc[1]"
   ],
   "metadata": {
    "collapsed": false,
    "pycharm": {
     "name": "#%%\n"
    }
   }
  },
  {
   "cell_type": "code",
   "execution_count": 5,
   "outputs": [
    {
     "data": {
      "text/plain": "'BELÉM'"
     },
     "execution_count": 5,
     "metadata": {},
     "output_type": "execute_result"
    }
   ],
   "source": [
    "df_AcidentesAeronaves.loc[1, \"ocorrencia_cidade\"]"
   ],
   "metadata": {
    "collapsed": false,
    "pycharm": {
     "name": "#%%\n"
    }
   }
  },
  {
   "cell_type": "code",
   "execution_count": 6,
   "outputs": [
    {
     "data": {
      "text/plain": "   codigo_ocorrencia  codigo_ocorrencia2 ocorrencia_classificacao  \\\n1              40349               40349                INCIDENTE   \n2              40351               40351                INCIDENTE   \n3              39527               39527                 ACIDENTE   \n4              40324               40324                INCIDENTE   \n\n    ocorrencia_cidade ocorrencia_uf ocorrencia_aerodromo ocorrencia_dia  \\\n1               BELÉM            PA                 SBBE     2010-01-03   \n2      RIO DE JANEIRO            RJ                 SBRJ     2010-01-03   \n3  LUCAS DO RIO VERDE            MT                 ****     2010-01-04   \n4             PELOTAS            RS                 SBPK     2010-01-05   \n\n  ocorrencia_hora  total_recomendacoes  \n1        11:05:00                    0  \n2        03:00:00                    0  \n3        17:30:00                    0  \n4        19:25:00                    0  ",
      "text/html": "<div>\n<style scoped>\n    .dataframe tbody tr th:only-of-type {\n        vertical-align: middle;\n    }\n\n    .dataframe tbody tr th {\n        vertical-align: top;\n    }\n\n    .dataframe thead th {\n        text-align: right;\n    }\n</style>\n<table border=\"1\" class=\"dataframe\">\n  <thead>\n    <tr style=\"text-align: right;\">\n      <th></th>\n      <th>codigo_ocorrencia</th>\n      <th>codigo_ocorrencia2</th>\n      <th>ocorrencia_classificacao</th>\n      <th>ocorrencia_cidade</th>\n      <th>ocorrencia_uf</th>\n      <th>ocorrencia_aerodromo</th>\n      <th>ocorrencia_dia</th>\n      <th>ocorrencia_hora</th>\n      <th>total_recomendacoes</th>\n    </tr>\n  </thead>\n  <tbody>\n    <tr>\n      <th>1</th>\n      <td>40349</td>\n      <td>40349</td>\n      <td>INCIDENTE</td>\n      <td>BELÉM</td>\n      <td>PA</td>\n      <td>SBBE</td>\n      <td>2010-01-03</td>\n      <td>11:05:00</td>\n      <td>0</td>\n    </tr>\n    <tr>\n      <th>2</th>\n      <td>40351</td>\n      <td>40351</td>\n      <td>INCIDENTE</td>\n      <td>RIO DE JANEIRO</td>\n      <td>RJ</td>\n      <td>SBRJ</td>\n      <td>2010-01-03</td>\n      <td>03:00:00</td>\n      <td>0</td>\n    </tr>\n    <tr>\n      <th>3</th>\n      <td>39527</td>\n      <td>39527</td>\n      <td>ACIDENTE</td>\n      <td>LUCAS DO RIO VERDE</td>\n      <td>MT</td>\n      <td>****</td>\n      <td>2010-01-04</td>\n      <td>17:30:00</td>\n      <td>0</td>\n    </tr>\n    <tr>\n      <th>4</th>\n      <td>40324</td>\n      <td>40324</td>\n      <td>INCIDENTE</td>\n      <td>PELOTAS</td>\n      <td>RS</td>\n      <td>SBPK</td>\n      <td>2010-01-05</td>\n      <td>19:25:00</td>\n      <td>0</td>\n    </tr>\n  </tbody>\n</table>\n</div>"
     },
     "execution_count": 6,
     "metadata": {},
     "output_type": "execute_result"
    }
   ],
   "source": [
    "df_AcidentesAeronaves.loc[1:4]"
   ],
   "metadata": {
    "collapsed": false,
    "pycharm": {
     "name": "#%%\n"
    }
   }
  },
  {
   "cell_type": "code",
   "execution_count": 7,
   "outputs": [
    {
     "data": {
      "text/plain": "0           RIO DE JANEIRO\n1                    BELÉM\n2           RIO DE JANEIRO\n3       LUCAS DO RIO VERDE\n4                  PELOTAS\n               ...        \n5747              CAMPINAS\n5748     LAGOA DA CONFUSÃO\n5749        RIO DE JANEIRO\n5750             VICENTINA\n5751        RIO DE JANEIRO\nName: ocorrencia_cidade, Length: 5752, dtype: object"
     },
     "execution_count": 7,
     "metadata": {},
     "output_type": "execute_result"
    }
   ],
   "source": [
    "df_AcidentesAeronaves[\"ocorrencia_cidade\"]"
   ],
   "metadata": {
    "collapsed": false,
    "pycharm": {
     "name": "#%%\n"
    }
   }
  },
  {
   "cell_type": "code",
   "execution_count": 8,
   "outputs": [
    {
     "data": {
      "text/plain": "True"
     },
     "execution_count": 8,
     "metadata": {},
     "output_type": "execute_result"
    }
   ],
   "source": [
    "df_AcidentesAeronaves.codigo_ocorrencia.is_unique"
   ],
   "metadata": {
    "collapsed": false,
    "pycharm": {
     "name": "#%%\n"
    }
   }
  },
  {
   "cell_type": "code",
   "execution_count": 10,
   "outputs": [],
   "source": [
    "df_AcidentesAeronaves.set_index(\"codigo_ocorrencia\", inplace=True)"
   ],
   "metadata": {
    "collapsed": false,
    "pycharm": {
     "name": "#%%\n"
    }
   }
  },
  {
   "cell_type": "code",
   "execution_count": null,
   "outputs": [],
   "source": [
    "df_AcidentesAeronaves.reset_index(drop=True, inplace=True)"
   ],
   "metadata": {
    "collapsed": false,
    "pycharm": {
     "name": "#%%\n"
    }
   }
  },
  {
   "cell_type": "code",
   "execution_count": null,
   "outputs": [],
   "source": [
    "df_AcidentesAeronaves.loc[0,'ocorrencia_aerodromo'] = ''"
   ],
   "metadata": {
    "collapsed": false,
    "pycharm": {
     "name": "#%%\n"
    }
   }
  },
  {
   "cell_type": "code",
   "execution_count": null,
   "outputs": [],
   "source": [
    "df_AcidentesAeronaves.head(1)"
   ],
   "metadata": {
    "collapsed": false,
    "pycharm": {
     "name": "#%%\n"
    }
   }
  },
  {
   "cell_type": "code",
   "execution_count": null,
   "outputs": [],
   "source": [
    "df_AcidentesAeronaves.loc[1] = 20"
   ],
   "metadata": {
    "collapsed": false,
    "pycharm": {
     "name": "#%%\n"
    }
   }
  },
  {
   "cell_type": "code",
   "execution_count": null,
   "outputs": [],
   "source": [
    "df_AcidentesAeronaves.head(2)"
   ],
   "metadata": {
    "collapsed": false,
    "pycharm": {
     "name": "#%%\n"
    }
   }
  },
  {
   "cell_type": "code",
   "execution_count": null,
   "outputs": [],
   "source": [
    "df_AcidentesAeronaves.loc[:,'total_recomendacoes'] = 10"
   ],
   "metadata": {
    "collapsed": false,
    "pycharm": {
     "name": "#%%\n"
    }
   }
  },
  {
   "cell_type": "code",
   "execution_count": null,
   "outputs": [],
   "source": [
    "df_AcidentesAeronaves['ocorrencia_uf_bkp'] = df_AcidentesAeronaves.ocorrencia_uf"
   ],
   "metadata": {
    "collapsed": false,
    "pycharm": {
     "name": "#%%\n"
    }
   }
  },
  {
   "cell_type": "code",
   "execution_count": null,
   "outputs": [],
   "source": [
    "df_AcidentesAeronaves.loc[df_AcidentesAeronaves.ocorrencia_uf == 'SP', ['ocorrencia_classificacao']] = 'GRAVE'"
   ],
   "metadata": {
    "collapsed": false,
    "pycharm": {
     "name": "#%%\n"
    }
   }
  },
  {
   "cell_type": "code",
   "execution_count": null,
   "outputs": [],
   "source": [
    "df_AcidentesAeronaves = pd.read_csv(\"ocorrencia_2010_2020.csv\", sep=\";\", parse_dates=[\"ocorrencia_dia\"], dayfirst=True)"
   ],
   "metadata": {
    "collapsed": false,
    "pycharm": {
     "name": "#%%\n"
    }
   }
  },
  {
   "cell_type": "code",
   "execution_count": null,
   "outputs": [],
   "source": [],
   "metadata": {
    "collapsed": false,
    "pycharm": {
     "name": "#%%\n"
    }
   }
  }
 ],
 "metadata": {
  "kernelspec": {
   "display_name": "Python 3",
   "language": "python",
   "name": "python3"
  },
  "language_info": {
   "codemirror_mode": {
    "name": "ipython",
    "version": 2
   },
   "file_extension": ".py",
   "mimetype": "text/x-python",
   "name": "python",
   "nbconvert_exporter": "python",
   "pygments_lexer": "ipython2",
   "version": "2.7.6"
  }
 },
 "nbformat": 4,
 "nbformat_minor": 0
}