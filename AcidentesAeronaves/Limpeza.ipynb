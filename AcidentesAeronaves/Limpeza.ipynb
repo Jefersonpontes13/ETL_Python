{
 "cells": [
  {
   "cell_type": "code",
   "execution_count": 1,
   "outputs": [
    {
     "data": {
      "text/plain": "'coding: utf-8'"
     },
     "execution_count": 1,
     "metadata": {},
     "output_type": "execute_result"
    }
   ],
   "source": [
    "\"\"\"coding: utf-8\"\"\""
   ],
   "metadata": {
    "collapsed": false,
    "pycharm": {
     "name": "#%%\n"
    }
   }
  },
  {
   "cell_type": "code",
   "execution_count": 2,
   "outputs": [],
   "source": [
    "import pandas as pd"
   ],
   "metadata": {
    "collapsed": false,
    "pycharm": {
     "name": "#%%\n"
    }
   }
  },
  {
   "cell_type": "code",
   "execution_count": 3,
   "outputs": [],
   "source": [
    "df_AcidentesAeronaves = pd.read_csv(\"ocorrencia_2010_2020.csv\", sep=\";\", parse_dates=[\"ocorrencia_dia\"], dayfirst=True)"
   ],
   "metadata": {
    "collapsed": false,
    "pycharm": {
     "name": "#%%\n"
    }
   }
  },
  {
   "cell_type": "code",
   "execution_count": 4,
   "outputs": [
    {
     "data": {
      "text/plain": "codigo_ocorrencia                         40349\ncodigo_ocorrencia2                        40349\nocorrencia_classificacao              INCIDENTE\nocorrencia_cidade                         BELÉM\nocorrencia_uf                                PA\nocorrencia_aerodromo                       SBBE\nocorrencia_dia              2010-01-03 00:00:00\nocorrencia_hora                        11:05:00\ntotal_recomendacoes                           0\nName: 1, dtype: object"
     },
     "execution_count": 4,
     "metadata": {},
     "output_type": "execute_result"
    }
   ],
   "source": [
    "df_AcidentesAeronaves.loc[1]"
   ],
   "metadata": {
    "collapsed": false,
    "pycharm": {
     "name": "#%%\n"
    }
   }
  },
  {
   "cell_type": "code",
   "execution_count": 5,
   "outputs": [
    {
     "data": {
      "text/plain": "'BELÉM'"
     },
     "execution_count": 5,
     "metadata": {},
     "output_type": "execute_result"
    }
   ],
   "source": [
    "df_AcidentesAeronaves.loc[1, \"ocorrencia_cidade\"]"
   ],
   "metadata": {
    "collapsed": false,
    "pycharm": {
     "name": "#%%\n"
    }
   }
  },
  {
   "cell_type": "code",
   "execution_count": 6,
   "outputs": [
    {
     "data": {
      "text/plain": "   codigo_ocorrencia  codigo_ocorrencia2 ocorrencia_classificacao  \\\n1              40349               40349                INCIDENTE   \n2              40351               40351                INCIDENTE   \n3              39527               39527                 ACIDENTE   \n4              40324               40324                INCIDENTE   \n\n    ocorrencia_cidade ocorrencia_uf ocorrencia_aerodromo ocorrencia_dia  \\\n1               BELÉM            PA                 SBBE     2010-01-03   \n2      RIO DE JANEIRO            RJ                 SBRJ     2010-01-03   \n3  LUCAS DO RIO VERDE            MT                 ****     2010-01-04   \n4             PELOTAS            RS                 SBPK     2010-01-05   \n\n  ocorrencia_hora  total_recomendacoes  \n1        11:05:00                    0  \n2        03:00:00                    0  \n3        17:30:00                    0  \n4        19:25:00                    0  ",
      "text/html": "<div>\n<style scoped>\n    .dataframe tbody tr th:only-of-type {\n        vertical-align: middle;\n    }\n\n    .dataframe tbody tr th {\n        vertical-align: top;\n    }\n\n    .dataframe thead th {\n        text-align: right;\n    }\n</style>\n<table border=\"1\" class=\"dataframe\">\n  <thead>\n    <tr style=\"text-align: right;\">\n      <th></th>\n      <th>codigo_ocorrencia</th>\n      <th>codigo_ocorrencia2</th>\n      <th>ocorrencia_classificacao</th>\n      <th>ocorrencia_cidade</th>\n      <th>ocorrencia_uf</th>\n      <th>ocorrencia_aerodromo</th>\n      <th>ocorrencia_dia</th>\n      <th>ocorrencia_hora</th>\n      <th>total_recomendacoes</th>\n    </tr>\n  </thead>\n  <tbody>\n    <tr>\n      <th>1</th>\n      <td>40349</td>\n      <td>40349</td>\n      <td>INCIDENTE</td>\n      <td>BELÉM</td>\n      <td>PA</td>\n      <td>SBBE</td>\n      <td>2010-01-03</td>\n      <td>11:05:00</td>\n      <td>0</td>\n    </tr>\n    <tr>\n      <th>2</th>\n      <td>40351</td>\n      <td>40351</td>\n      <td>INCIDENTE</td>\n      <td>RIO DE JANEIRO</td>\n      <td>RJ</td>\n      <td>SBRJ</td>\n      <td>2010-01-03</td>\n      <td>03:00:00</td>\n      <td>0</td>\n    </tr>\n    <tr>\n      <th>3</th>\n      <td>39527</td>\n      <td>39527</td>\n      <td>ACIDENTE</td>\n      <td>LUCAS DO RIO VERDE</td>\n      <td>MT</td>\n      <td>****</td>\n      <td>2010-01-04</td>\n      <td>17:30:00</td>\n      <td>0</td>\n    </tr>\n    <tr>\n      <th>4</th>\n      <td>40324</td>\n      <td>40324</td>\n      <td>INCIDENTE</td>\n      <td>PELOTAS</td>\n      <td>RS</td>\n      <td>SBPK</td>\n      <td>2010-01-05</td>\n      <td>19:25:00</td>\n      <td>0</td>\n    </tr>\n  </tbody>\n</table>\n</div>"
     },
     "execution_count": 6,
     "metadata": {},
     "output_type": "execute_result"
    }
   ],
   "source": [
    "df_AcidentesAeronaves.loc[1:4]"
   ],
   "metadata": {
    "collapsed": false,
    "pycharm": {
     "name": "#%%\n"
    }
   }
  },
  {
   "cell_type": "code",
   "execution_count": 7,
   "outputs": [
    {
     "data": {
      "text/plain": "0           RIO DE JANEIRO\n1                    BELÉM\n2           RIO DE JANEIRO\n3       LUCAS DO RIO VERDE\n4                  PELOTAS\n               ...        \n5747              CAMPINAS\n5748     LAGOA DA CONFUSÃO\n5749        RIO DE JANEIRO\n5750             VICENTINA\n5751        RIO DE JANEIRO\nName: ocorrencia_cidade, Length: 5752, dtype: object"
     },
     "execution_count": 7,
     "metadata": {},
     "output_type": "execute_result"
    }
   ],
   "source": [
    "df_AcidentesAeronaves[\"ocorrencia_cidade\"]"
   ],
   "metadata": {
    "collapsed": false,
    "pycharm": {
     "name": "#%%\n"
    }
   }
  },
  {
   "cell_type": "code",
   "execution_count": 8,
   "outputs": [
    {
     "data": {
      "text/plain": "True"
     },
     "execution_count": 8,
     "metadata": {},
     "output_type": "execute_result"
    }
   ],
   "source": [
    "df_AcidentesAeronaves.codigo_ocorrencia.is_unique"
   ],
   "metadata": {
    "collapsed": false,
    "pycharm": {
     "name": "#%%\n"
    }
   }
  },
  {
   "cell_type": "code",
   "execution_count": 9,
   "outputs": [],
   "source": [
    "df_AcidentesAeronaves.set_index(\"codigo_ocorrencia\", inplace=True)"
   ],
   "metadata": {
    "collapsed": false,
    "pycharm": {
     "name": "#%%\n"
    }
   }
  },
  {
   "cell_type": "code",
   "execution_count": 10,
   "outputs": [],
   "source": [
    "df_AcidentesAeronaves.reset_index(drop=True, inplace=True)"
   ],
   "metadata": {
    "collapsed": false,
    "pycharm": {
     "name": "#%%\n"
    }
   }
  },
  {
   "cell_type": "code",
   "execution_count": 11,
   "outputs": [],
   "source": [
    "df_AcidentesAeronaves.loc[0,'ocorrencia_aerodromo'] = ''"
   ],
   "metadata": {
    "collapsed": false,
    "pycharm": {
     "name": "#%%\n"
    }
   }
  },
  {
   "cell_type": "code",
   "execution_count": 12,
   "outputs": [
    {
     "data": {
      "text/plain": "   codigo_ocorrencia2 ocorrencia_classificacao ocorrencia_cidade  \\\n0               40211                INCIDENTE    RIO DE JANEIRO   \n\n  ocorrencia_uf ocorrencia_aerodromo ocorrencia_dia ocorrencia_hora  \\\n0            RJ                          2010-01-03        12:00:00   \n\n   total_recomendacoes  \n0                    0  ",
      "text/html": "<div>\n<style scoped>\n    .dataframe tbody tr th:only-of-type {\n        vertical-align: middle;\n    }\n\n    .dataframe tbody tr th {\n        vertical-align: top;\n    }\n\n    .dataframe thead th {\n        text-align: right;\n    }\n</style>\n<table border=\"1\" class=\"dataframe\">\n  <thead>\n    <tr style=\"text-align: right;\">\n      <th></th>\n      <th>codigo_ocorrencia2</th>\n      <th>ocorrencia_classificacao</th>\n      <th>ocorrencia_cidade</th>\n      <th>ocorrencia_uf</th>\n      <th>ocorrencia_aerodromo</th>\n      <th>ocorrencia_dia</th>\n      <th>ocorrencia_hora</th>\n      <th>total_recomendacoes</th>\n    </tr>\n  </thead>\n  <tbody>\n    <tr>\n      <th>0</th>\n      <td>40211</td>\n      <td>INCIDENTE</td>\n      <td>RIO DE JANEIRO</td>\n      <td>RJ</td>\n      <td></td>\n      <td>2010-01-03</td>\n      <td>12:00:00</td>\n      <td>0</td>\n    </tr>\n  </tbody>\n</table>\n</div>"
     },
     "execution_count": 12,
     "metadata": {},
     "output_type": "execute_result"
    }
   ],
   "source": [
    "df_AcidentesAeronaves.head(1)"
   ],
   "metadata": {
    "collapsed": false,
    "pycharm": {
     "name": "#%%\n"
    }
   }
  },
  {
   "cell_type": "code",
   "execution_count": 13,
   "outputs": [],
   "source": [
    "df_AcidentesAeronaves.loc[1] = 20"
   ],
   "metadata": {
    "collapsed": false,
    "pycharm": {
     "name": "#%%\n"
    }
   }
  },
  {
   "cell_type": "code",
   "execution_count": 14,
   "outputs": [
    {
     "data": {
      "text/plain": "   codigo_ocorrencia2 ocorrencia_classificacao ocorrencia_cidade  \\\n0               40211                INCIDENTE    RIO DE JANEIRO   \n1                  20                       20                20   \n\n  ocorrencia_uf ocorrencia_aerodromo       ocorrencia_dia ocorrencia_hora  \\\n0            RJ                       2010-01-03 00:00:00        12:00:00   \n1            20                   20                   20              20   \n\n   total_recomendacoes  \n0                    0  \n1                   20  ",
      "text/html": "<div>\n<style scoped>\n    .dataframe tbody tr th:only-of-type {\n        vertical-align: middle;\n    }\n\n    .dataframe tbody tr th {\n        vertical-align: top;\n    }\n\n    .dataframe thead th {\n        text-align: right;\n    }\n</style>\n<table border=\"1\" class=\"dataframe\">\n  <thead>\n    <tr style=\"text-align: right;\">\n      <th></th>\n      <th>codigo_ocorrencia2</th>\n      <th>ocorrencia_classificacao</th>\n      <th>ocorrencia_cidade</th>\n      <th>ocorrencia_uf</th>\n      <th>ocorrencia_aerodromo</th>\n      <th>ocorrencia_dia</th>\n      <th>ocorrencia_hora</th>\n      <th>total_recomendacoes</th>\n    </tr>\n  </thead>\n  <tbody>\n    <tr>\n      <th>0</th>\n      <td>40211</td>\n      <td>INCIDENTE</td>\n      <td>RIO DE JANEIRO</td>\n      <td>RJ</td>\n      <td></td>\n      <td>2010-01-03 00:00:00</td>\n      <td>12:00:00</td>\n      <td>0</td>\n    </tr>\n    <tr>\n      <th>1</th>\n      <td>20</td>\n      <td>20</td>\n      <td>20</td>\n      <td>20</td>\n      <td>20</td>\n      <td>20</td>\n      <td>20</td>\n      <td>20</td>\n    </tr>\n  </tbody>\n</table>\n</div>"
     },
     "execution_count": 14,
     "metadata": {},
     "output_type": "execute_result"
    }
   ],
   "source": [
    "df_AcidentesAeronaves.head(2)"
   ],
   "metadata": {
    "collapsed": false,
    "pycharm": {
     "name": "#%%\n"
    }
   }
  },
  {
   "cell_type": "code",
   "execution_count": 15,
   "outputs": [],
   "source": [
    "df_AcidentesAeronaves.loc[:,'total_recomendacoes'] = 10"
   ],
   "metadata": {
    "collapsed": false,
    "pycharm": {
     "name": "#%%\n"
    }
   }
  },
  {
   "cell_type": "code",
   "execution_count": 16,
   "outputs": [],
   "source": [
    "df_AcidentesAeronaves['ocorrencia_uf_bkp'] = df_AcidentesAeronaves.ocorrencia_uf"
   ],
   "metadata": {
    "collapsed": false,
    "pycharm": {
     "name": "#%%\n"
    }
   }
  },
  {
   "cell_type": "code",
   "execution_count": 17,
   "outputs": [],
   "source": [
    "df_AcidentesAeronaves.loc[df_AcidentesAeronaves.ocorrencia_uf == 'SP', ['ocorrencia_classificacao']] = 'GRAVE'"
   ],
   "metadata": {
    "collapsed": false,
    "pycharm": {
     "name": "#%%\n"
    }
   }
  },
  {
   "cell_type": "code",
   "execution_count": 18,
   "outputs": [],
   "source": [
    "df_AcidentesAeronaves = pd.read_csv(\"ocorrencia_2010_2020.csv\", sep=\";\", parse_dates=[\"ocorrencia_dia\"], dayfirst=True)"
   ],
   "metadata": {
    "collapsed": false,
    "pycharm": {
     "name": "#%%\n"
    }
   }
  },
  {
   "cell_type": "code",
   "execution_count": 18,
   "outputs": [],
   "source": [],
   "metadata": {
    "collapsed": false,
    "pycharm": {
     "name": "#%%\n"
    }
   }
  },
  {
   "cell_type": "raw",
   "source": [
    "ocorrencia_uf\n",
    "**\n",
    "\n",
    "ocorrencia_aerodromo\n",
    "###!\n",
    "####\n",
    "****\n",
    "*****\n",
    "\n",
    "ocorrencia_hora\n",
    "NULL\n",
    "\n"
   ],
   "metadata": {
    "collapsed": false
   }
  },
  {
   "cell_type": "code",
   "execution_count": 19,
   "outputs": [],
   "source": [
    "df_AcidentesAeronaves.loc[df_AcidentesAeronaves.ocorrencia_aerodromo == '****', ['ocorrencia_aerodromo']] = pd.NA"
   ],
   "metadata": {
    "collapsed": false,
    "pycharm": {
     "name": "#%%\n"
    }
   }
  },
  {
   "cell_type": "code",
   "execution_count": 20,
   "outputs": [],
   "source": [
    "df_AcidentesAeronaves.replace(['**','###!','####','****','*****','NULL'], pd.NA, inplace=True)"
   ],
   "metadata": {
    "collapsed": false,
    "pycharm": {
     "name": "#%%\n"
    }
   }
  },
  {
   "cell_type": "code",
   "execution_count": 21,
   "outputs": [
    {
     "data": {
      "text/plain": "codigo_ocorrencia              0\ncodigo_ocorrencia2             0\nocorrencia_classificacao       0\nocorrencia_cidade              0\nocorrencia_uf                  1\nocorrencia_aerodromo        2349\nocorrencia_dia                 0\nocorrencia_hora                1\ntotal_recomendacoes            0\ndtype: int64"
     },
     "execution_count": 21,
     "metadata": {},
     "output_type": "execute_result"
    }
   ],
   "source": [
    "df_AcidentesAeronaves.isna().sum()"
   ],
   "metadata": {
    "collapsed": false,
    "pycharm": {
     "name": "#%%\n"
    }
   }
  },
  {
   "cell_type": "code",
   "execution_count": 22,
   "outputs": [],
   "source": [
    "df_AcidentesAeronaves.fillna(10, inplace=True)"
   ],
   "metadata": {
    "collapsed": false,
    "pycharm": {
     "name": "#%%\n"
    }
   }
  },
  {
   "cell_type": "code",
   "execution_count": 23,
   "outputs": [
    {
     "data": {
      "text/plain": "codigo_ocorrencia           0\ncodigo_ocorrencia2          0\nocorrencia_classificacao    0\nocorrencia_cidade           0\nocorrencia_uf               0\nocorrencia_aerodromo        0\nocorrencia_dia              0\nocorrencia_hora             0\ntotal_recomendacoes         0\ndtype: int64"
     },
     "execution_count": 23,
     "metadata": {},
     "output_type": "execute_result"
    }
   ],
   "source": [
    "df_AcidentesAeronaves.isnull().sum()"
   ],
   "metadata": {
    "collapsed": false,
    "pycharm": {
     "name": "#%%\n"
    }
   }
  },
  {
   "cell_type": "code",
   "execution_count": 24,
   "outputs": [
    {
     "data": {
      "text/plain": "   codigo_ocorrencia  codigo_ocorrencia2 ocorrencia_classificacao  \\\n0              40211               40211                INCIDENTE   \n1              40349               40349                INCIDENTE   \n2              40351               40351                INCIDENTE   \n3              39527               39527                 ACIDENTE   \n4              40324               40324                INCIDENTE   \n\n    ocorrencia_cidade ocorrencia_uf ocorrencia_aerodromo ocorrencia_dia  \\\n0      RIO DE JANEIRO            RJ                   10     2010-01-03   \n1               BELÉM            PA                 SBBE     2010-01-03   \n2      RIO DE JANEIRO            RJ                 SBRJ     2010-01-03   \n3  LUCAS DO RIO VERDE            MT                   10     2010-01-04   \n4             PELOTAS            RS                 SBPK     2010-01-05   \n\n  ocorrencia_hora  total_recomendacoes  \n0        12:00:00                    0  \n1        11:05:00                    0  \n2        03:00:00                    0  \n3        17:30:00                    0  \n4        19:25:00                    0  ",
      "text/html": "<div>\n<style scoped>\n    .dataframe tbody tr th:only-of-type {\n        vertical-align: middle;\n    }\n\n    .dataframe tbody tr th {\n        vertical-align: top;\n    }\n\n    .dataframe thead th {\n        text-align: right;\n    }\n</style>\n<table border=\"1\" class=\"dataframe\">\n  <thead>\n    <tr style=\"text-align: right;\">\n      <th></th>\n      <th>codigo_ocorrencia</th>\n      <th>codigo_ocorrencia2</th>\n      <th>ocorrencia_classificacao</th>\n      <th>ocorrencia_cidade</th>\n      <th>ocorrencia_uf</th>\n      <th>ocorrencia_aerodromo</th>\n      <th>ocorrencia_dia</th>\n      <th>ocorrencia_hora</th>\n      <th>total_recomendacoes</th>\n    </tr>\n  </thead>\n  <tbody>\n    <tr>\n      <th>0</th>\n      <td>40211</td>\n      <td>40211</td>\n      <td>INCIDENTE</td>\n      <td>RIO DE JANEIRO</td>\n      <td>RJ</td>\n      <td>10</td>\n      <td>2010-01-03</td>\n      <td>12:00:00</td>\n      <td>0</td>\n    </tr>\n    <tr>\n      <th>1</th>\n      <td>40349</td>\n      <td>40349</td>\n      <td>INCIDENTE</td>\n      <td>BELÉM</td>\n      <td>PA</td>\n      <td>SBBE</td>\n      <td>2010-01-03</td>\n      <td>11:05:00</td>\n      <td>0</td>\n    </tr>\n    <tr>\n      <th>2</th>\n      <td>40351</td>\n      <td>40351</td>\n      <td>INCIDENTE</td>\n      <td>RIO DE JANEIRO</td>\n      <td>RJ</td>\n      <td>SBRJ</td>\n      <td>2010-01-03</td>\n      <td>03:00:00</td>\n      <td>0</td>\n    </tr>\n    <tr>\n      <th>3</th>\n      <td>39527</td>\n      <td>39527</td>\n      <td>ACIDENTE</td>\n      <td>LUCAS DO RIO VERDE</td>\n      <td>MT</td>\n      <td>10</td>\n      <td>2010-01-04</td>\n      <td>17:30:00</td>\n      <td>0</td>\n    </tr>\n    <tr>\n      <th>4</th>\n      <td>40324</td>\n      <td>40324</td>\n      <td>INCIDENTE</td>\n      <td>PELOTAS</td>\n      <td>RS</td>\n      <td>SBPK</td>\n      <td>2010-01-05</td>\n      <td>19:25:00</td>\n      <td>0</td>\n    </tr>\n  </tbody>\n</table>\n</div>"
     },
     "execution_count": 24,
     "metadata": {},
     "output_type": "execute_result"
    }
   ],
   "source": [
    "df_AcidentesAeronaves.head()"
   ],
   "metadata": {
    "collapsed": false,
    "pycharm": {
     "name": "#%%\n"
    }
   }
  },
  {
   "cell_type": "code",
   "execution_count": 25,
   "outputs": [],
   "source": [
    "df_AcidentesAeronaves.replace([10], pd.NA, inplace=True)"
   ],
   "metadata": {
    "collapsed": false,
    "pycharm": {
     "name": "#%%\n"
    }
   }
  },
  {
   "cell_type": "code",
   "execution_count": 26,
   "outputs": [
    {
     "data": {
      "text/plain": "codigo_ocorrencia              0\ncodigo_ocorrencia2             0\nocorrencia_classificacao       0\nocorrencia_cidade              0\nocorrencia_uf                  1\nocorrencia_aerodromo        2349\nocorrencia_dia                 0\nocorrencia_hora                1\ntotal_recomendacoes            2\ndtype: int64"
     },
     "execution_count": 26,
     "metadata": {},
     "output_type": "execute_result"
    }
   ],
   "source": [
    "df_AcidentesAeronaves.isnull().sum()"
   ],
   "metadata": {
    "collapsed": false,
    "pycharm": {
     "name": "#%%\n"
    }
   }
  },
  {
   "cell_type": "code",
   "execution_count": 27,
   "outputs": [],
   "source": [
    "df_AcidentesAeronaves.fillna(value={'total_recomendacoes':10}, inplace=True)"
   ],
   "metadata": {
    "collapsed": false,
    "pycharm": {
     "name": "#%%\n"
    }
   }
  },
  {
   "cell_type": "code",
   "execution_count": 28,
   "outputs": [
    {
     "data": {
      "text/plain": "codigo_ocorrencia              0\ncodigo_ocorrencia2             0\nocorrencia_classificacao       0\nocorrencia_cidade              0\nocorrencia_uf                  1\nocorrencia_aerodromo        2349\nocorrencia_dia                 0\nocorrencia_hora                1\ntotal_recomendacoes            0\ndtype: int64"
     },
     "execution_count": 28,
     "metadata": {},
     "output_type": "execute_result"
    }
   ],
   "source": [
    "df_AcidentesAeronaves.isnull().sum()"
   ],
   "metadata": {
    "collapsed": false,
    "pycharm": {
     "name": "#%%\n"
    }
   }
  },
  {
   "cell_type": "code",
   "execution_count": 29,
   "outputs": [],
   "source": [
    "df_AcidentesAeronaves['total_recomendacoes_bkp'] = df_AcidentesAeronaves.total_recomendacoes"
   ],
   "metadata": {
    "collapsed": false,
    "pycharm": {
     "name": "#%%\n"
    }
   }
  },
  {
   "cell_type": "code",
   "execution_count": 30,
   "outputs": [
    {
     "data": {
      "text/plain": "  codigo_ocorrencia codigo_ocorrencia2 ocorrencia_classificacao  \\\n0             40211              40211                INCIDENTE   \n1             40349              40349                INCIDENTE   \n2             40351              40351                INCIDENTE   \n3             39527              39527                 ACIDENTE   \n4             40324              40324                INCIDENTE   \n\n    ocorrencia_cidade ocorrencia_uf ocorrencia_aerodromo ocorrencia_dia  \\\n0      RIO DE JANEIRO            RJ                 <NA>     2010-01-03   \n1               BELÉM            PA                 SBBE     2010-01-03   \n2      RIO DE JANEIRO            RJ                 SBRJ     2010-01-03   \n3  LUCAS DO RIO VERDE            MT                 <NA>     2010-01-04   \n4             PELOTAS            RS                 SBPK     2010-01-05   \n\n  ocorrencia_hora  total_recomendacoes  total_recomendacoes_bkp  \n0        12:00:00                    0                        0  \n1        11:05:00                    0                        0  \n2        03:00:00                    0                        0  \n3        17:30:00                    0                        0  \n4        19:25:00                    0                        0  ",
      "text/html": "<div>\n<style scoped>\n    .dataframe tbody tr th:only-of-type {\n        vertical-align: middle;\n    }\n\n    .dataframe tbody tr th {\n        vertical-align: top;\n    }\n\n    .dataframe thead th {\n        text-align: right;\n    }\n</style>\n<table border=\"1\" class=\"dataframe\">\n  <thead>\n    <tr style=\"text-align: right;\">\n      <th></th>\n      <th>codigo_ocorrencia</th>\n      <th>codigo_ocorrencia2</th>\n      <th>ocorrencia_classificacao</th>\n      <th>ocorrencia_cidade</th>\n      <th>ocorrencia_uf</th>\n      <th>ocorrencia_aerodromo</th>\n      <th>ocorrencia_dia</th>\n      <th>ocorrencia_hora</th>\n      <th>total_recomendacoes</th>\n      <th>total_recomendacoes_bkp</th>\n    </tr>\n  </thead>\n  <tbody>\n    <tr>\n      <th>0</th>\n      <td>40211</td>\n      <td>40211</td>\n      <td>INCIDENTE</td>\n      <td>RIO DE JANEIRO</td>\n      <td>RJ</td>\n      <td>&lt;NA&gt;</td>\n      <td>2010-01-03</td>\n      <td>12:00:00</td>\n      <td>0</td>\n      <td>0</td>\n    </tr>\n    <tr>\n      <th>1</th>\n      <td>40349</td>\n      <td>40349</td>\n      <td>INCIDENTE</td>\n      <td>BELÉM</td>\n      <td>PA</td>\n      <td>SBBE</td>\n      <td>2010-01-03</td>\n      <td>11:05:00</td>\n      <td>0</td>\n      <td>0</td>\n    </tr>\n    <tr>\n      <th>2</th>\n      <td>40351</td>\n      <td>40351</td>\n      <td>INCIDENTE</td>\n      <td>RIO DE JANEIRO</td>\n      <td>RJ</td>\n      <td>SBRJ</td>\n      <td>2010-01-03</td>\n      <td>03:00:00</td>\n      <td>0</td>\n      <td>0</td>\n    </tr>\n    <tr>\n      <th>3</th>\n      <td>39527</td>\n      <td>39527</td>\n      <td>ACIDENTE</td>\n      <td>LUCAS DO RIO VERDE</td>\n      <td>MT</td>\n      <td>&lt;NA&gt;</td>\n      <td>2010-01-04</td>\n      <td>17:30:00</td>\n      <td>0</td>\n      <td>0</td>\n    </tr>\n    <tr>\n      <th>4</th>\n      <td>40324</td>\n      <td>40324</td>\n      <td>INCIDENTE</td>\n      <td>PELOTAS</td>\n      <td>RS</td>\n      <td>SBPK</td>\n      <td>2010-01-05</td>\n      <td>19:25:00</td>\n      <td>0</td>\n      <td>0</td>\n    </tr>\n  </tbody>\n</table>\n</div>"
     },
     "execution_count": 30,
     "metadata": {},
     "output_type": "execute_result"
    }
   ],
   "source": [
    "df_AcidentesAeronaves.head()"
   ],
   "metadata": {
    "collapsed": false,
    "pycharm": {
     "name": "#%%\n"
    }
   }
  },
  {
   "cell_type": "code",
   "execution_count": 31,
   "outputs": [],
   "source": [
    "df_AcidentesAeronaves.drop(['total_recomendacoes_bkp'], axis=1, inplace=True)"
   ],
   "metadata": {
    "collapsed": false,
    "pycharm": {
     "name": "#%%\n"
    }
   }
  },
  {
   "cell_type": "code",
   "execution_count": 32,
   "outputs": [
    {
     "data": {
      "text/plain": "  codigo_ocorrencia codigo_ocorrencia2 ocorrencia_classificacao  \\\n0             40211              40211                INCIDENTE   \n1             40349              40349                INCIDENTE   \n2             40351              40351                INCIDENTE   \n3             39527              39527                 ACIDENTE   \n4             40324              40324                INCIDENTE   \n\n    ocorrencia_cidade ocorrencia_uf ocorrencia_aerodromo ocorrencia_dia  \\\n0      RIO DE JANEIRO            RJ                 <NA>     2010-01-03   \n1               BELÉM            PA                 SBBE     2010-01-03   \n2      RIO DE JANEIRO            RJ                 SBRJ     2010-01-03   \n3  LUCAS DO RIO VERDE            MT                 <NA>     2010-01-04   \n4             PELOTAS            RS                 SBPK     2010-01-05   \n\n  ocorrencia_hora  total_recomendacoes  \n0        12:00:00                    0  \n1        11:05:00                    0  \n2        03:00:00                    0  \n3        17:30:00                    0  \n4        19:25:00                    0  ",
      "text/html": "<div>\n<style scoped>\n    .dataframe tbody tr th:only-of-type {\n        vertical-align: middle;\n    }\n\n    .dataframe tbody tr th {\n        vertical-align: top;\n    }\n\n    .dataframe thead th {\n        text-align: right;\n    }\n</style>\n<table border=\"1\" class=\"dataframe\">\n  <thead>\n    <tr style=\"text-align: right;\">\n      <th></th>\n      <th>codigo_ocorrencia</th>\n      <th>codigo_ocorrencia2</th>\n      <th>ocorrencia_classificacao</th>\n      <th>ocorrencia_cidade</th>\n      <th>ocorrencia_uf</th>\n      <th>ocorrencia_aerodromo</th>\n      <th>ocorrencia_dia</th>\n      <th>ocorrencia_hora</th>\n      <th>total_recomendacoes</th>\n    </tr>\n  </thead>\n  <tbody>\n    <tr>\n      <th>0</th>\n      <td>40211</td>\n      <td>40211</td>\n      <td>INCIDENTE</td>\n      <td>RIO DE JANEIRO</td>\n      <td>RJ</td>\n      <td>&lt;NA&gt;</td>\n      <td>2010-01-03</td>\n      <td>12:00:00</td>\n      <td>0</td>\n    </tr>\n    <tr>\n      <th>1</th>\n      <td>40349</td>\n      <td>40349</td>\n      <td>INCIDENTE</td>\n      <td>BELÉM</td>\n      <td>PA</td>\n      <td>SBBE</td>\n      <td>2010-01-03</td>\n      <td>11:05:00</td>\n      <td>0</td>\n    </tr>\n    <tr>\n      <th>2</th>\n      <td>40351</td>\n      <td>40351</td>\n      <td>INCIDENTE</td>\n      <td>RIO DE JANEIRO</td>\n      <td>RJ</td>\n      <td>SBRJ</td>\n      <td>2010-01-03</td>\n      <td>03:00:00</td>\n      <td>0</td>\n    </tr>\n    <tr>\n      <th>3</th>\n      <td>39527</td>\n      <td>39527</td>\n      <td>ACIDENTE</td>\n      <td>LUCAS DO RIO VERDE</td>\n      <td>MT</td>\n      <td>&lt;NA&gt;</td>\n      <td>2010-01-04</td>\n      <td>17:30:00</td>\n      <td>0</td>\n    </tr>\n    <tr>\n      <th>4</th>\n      <td>40324</td>\n      <td>40324</td>\n      <td>INCIDENTE</td>\n      <td>PELOTAS</td>\n      <td>RS</td>\n      <td>SBPK</td>\n      <td>2010-01-05</td>\n      <td>19:25:00</td>\n      <td>0</td>\n    </tr>\n  </tbody>\n</table>\n</div>"
     },
     "execution_count": 32,
     "metadata": {},
     "output_type": "execute_result"
    }
   ],
   "source": [
    "df_AcidentesAeronaves.head()"
   ],
   "metadata": {
    "collapsed": false,
    "pycharm": {
     "name": "#%%\n"
    }
   }
  },
  {
   "cell_type": "code",
   "execution_count": 33,
   "outputs": [
    {
     "data": {
      "text/plain": "     codigo_ocorrencia codigo_ocorrencia2 ocorrencia_classificacao  \\\n1                40349              40349                INCIDENTE   \n2                40351              40351                INCIDENTE   \n4                40324              40324                INCIDENTE   \n6                40215              40215                INCIDENTE   \n8                39156              39156          INCIDENTE GRAVE   \n...                ...                ...                      ...   \n5743             79824              79824                 ACIDENTE   \n5746             79769              79769          INCIDENTE GRAVE   \n5747             79804              79804                INCIDENTE   \n5749             79802              79802                INCIDENTE   \n5751             79844              79844                INCIDENTE   \n\n     ocorrencia_cidade ocorrencia_uf ocorrencia_aerodromo ocorrencia_dia  \\\n1                BELÉM            PA                 SBBE     2010-01-03   \n2       RIO DE JANEIRO            RJ                 SBRJ     2010-01-03   \n4              PELOTAS            RS                 SBPK     2010-01-05   \n6                COARI            AM                 SBUY     2010-01-07   \n8             CASCAVEL            PR                 SBCA     2010-01-10   \n...                ...           ...                  ...            ...   \n5743     RIO PARANAÍBA            MG                 SNRP     2020-12-28   \n5746     MANOEL URBANO            AC                 SIMB     2020-12-29   \n5747          CAMPINAS            SP                 SBKP     2020-12-29   \n5749    RIO DE JANEIRO            RJ                 SBGL     2020-12-30   \n5751    RIO DE JANEIRO            RJ                 SBJR     2020-12-31   \n\n     ocorrencia_hora  total_recomendacoes  \n1           11:05:00                    0  \n2           03:00:00                    0  \n4           19:25:00                    0  \n6           18:40:00                    0  \n8           23:15:00                    2  \n...              ...                  ...  \n5743        17:00:00                    0  \n5746        18:30:00                    0  \n5747        19:00:00                    0  \n5749        00:54:00                    0  \n5751        13:24:00                    0  \n\n[3403 rows x 9 columns]",
      "text/html": "<div>\n<style scoped>\n    .dataframe tbody tr th:only-of-type {\n        vertical-align: middle;\n    }\n\n    .dataframe tbody tr th {\n        vertical-align: top;\n    }\n\n    .dataframe thead th {\n        text-align: right;\n    }\n</style>\n<table border=\"1\" class=\"dataframe\">\n  <thead>\n    <tr style=\"text-align: right;\">\n      <th></th>\n      <th>codigo_ocorrencia</th>\n      <th>codigo_ocorrencia2</th>\n      <th>ocorrencia_classificacao</th>\n      <th>ocorrencia_cidade</th>\n      <th>ocorrencia_uf</th>\n      <th>ocorrencia_aerodromo</th>\n      <th>ocorrencia_dia</th>\n      <th>ocorrencia_hora</th>\n      <th>total_recomendacoes</th>\n    </tr>\n  </thead>\n  <tbody>\n    <tr>\n      <th>1</th>\n      <td>40349</td>\n      <td>40349</td>\n      <td>INCIDENTE</td>\n      <td>BELÉM</td>\n      <td>PA</td>\n      <td>SBBE</td>\n      <td>2010-01-03</td>\n      <td>11:05:00</td>\n      <td>0</td>\n    </tr>\n    <tr>\n      <th>2</th>\n      <td>40351</td>\n      <td>40351</td>\n      <td>INCIDENTE</td>\n      <td>RIO DE JANEIRO</td>\n      <td>RJ</td>\n      <td>SBRJ</td>\n      <td>2010-01-03</td>\n      <td>03:00:00</td>\n      <td>0</td>\n    </tr>\n    <tr>\n      <th>4</th>\n      <td>40324</td>\n      <td>40324</td>\n      <td>INCIDENTE</td>\n      <td>PELOTAS</td>\n      <td>RS</td>\n      <td>SBPK</td>\n      <td>2010-01-05</td>\n      <td>19:25:00</td>\n      <td>0</td>\n    </tr>\n    <tr>\n      <th>6</th>\n      <td>40215</td>\n      <td>40215</td>\n      <td>INCIDENTE</td>\n      <td>COARI</td>\n      <td>AM</td>\n      <td>SBUY</td>\n      <td>2010-01-07</td>\n      <td>18:40:00</td>\n      <td>0</td>\n    </tr>\n    <tr>\n      <th>8</th>\n      <td>39156</td>\n      <td>39156</td>\n      <td>INCIDENTE GRAVE</td>\n      <td>CASCAVEL</td>\n      <td>PR</td>\n      <td>SBCA</td>\n      <td>2010-01-10</td>\n      <td>23:15:00</td>\n      <td>2</td>\n    </tr>\n    <tr>\n      <th>...</th>\n      <td>...</td>\n      <td>...</td>\n      <td>...</td>\n      <td>...</td>\n      <td>...</td>\n      <td>...</td>\n      <td>...</td>\n      <td>...</td>\n      <td>...</td>\n    </tr>\n    <tr>\n      <th>5743</th>\n      <td>79824</td>\n      <td>79824</td>\n      <td>ACIDENTE</td>\n      <td>RIO PARANAÍBA</td>\n      <td>MG</td>\n      <td>SNRP</td>\n      <td>2020-12-28</td>\n      <td>17:00:00</td>\n      <td>0</td>\n    </tr>\n    <tr>\n      <th>5746</th>\n      <td>79769</td>\n      <td>79769</td>\n      <td>INCIDENTE GRAVE</td>\n      <td>MANOEL URBANO</td>\n      <td>AC</td>\n      <td>SIMB</td>\n      <td>2020-12-29</td>\n      <td>18:30:00</td>\n      <td>0</td>\n    </tr>\n    <tr>\n      <th>5747</th>\n      <td>79804</td>\n      <td>79804</td>\n      <td>INCIDENTE</td>\n      <td>CAMPINAS</td>\n      <td>SP</td>\n      <td>SBKP</td>\n      <td>2020-12-29</td>\n      <td>19:00:00</td>\n      <td>0</td>\n    </tr>\n    <tr>\n      <th>5749</th>\n      <td>79802</td>\n      <td>79802</td>\n      <td>INCIDENTE</td>\n      <td>RIO DE JANEIRO</td>\n      <td>RJ</td>\n      <td>SBGL</td>\n      <td>2020-12-30</td>\n      <td>00:54:00</td>\n      <td>0</td>\n    </tr>\n    <tr>\n      <th>5751</th>\n      <td>79844</td>\n      <td>79844</td>\n      <td>INCIDENTE</td>\n      <td>RIO DE JANEIRO</td>\n      <td>RJ</td>\n      <td>SBJR</td>\n      <td>2020-12-31</td>\n      <td>13:24:00</td>\n      <td>0</td>\n    </tr>\n  </tbody>\n</table>\n<p>3403 rows × 9 columns</p>\n</div>"
     },
     "execution_count": 33,
     "metadata": {},
     "output_type": "execute_result"
    }
   ],
   "source": [
    "df_AcidentesAeronaves.dropna()"
   ],
   "metadata": {
    "collapsed": false,
    "pycharm": {
     "name": "#%%\n"
    }
   }
  },
  {
   "cell_type": "code",
   "execution_count": 34,
   "outputs": [
    {
     "data": {
      "text/plain": "     codigo_ocorrencia codigo_ocorrencia2 ocorrencia_classificacao  \\\n0                40211              40211                INCIDENTE   \n1                40349              40349                INCIDENTE   \n2                40351              40351                INCIDENTE   \n3                39527              39527                 ACIDENTE   \n4                40324              40324                INCIDENTE   \n...                ...                ...                      ...   \n5747             79804              79804                INCIDENTE   \n5748             79757              79757          INCIDENTE GRAVE   \n5749             79802              79802                INCIDENTE   \n5750             79756              79756          INCIDENTE GRAVE   \n5751             79844              79844                INCIDENTE   \n\n       ocorrencia_cidade ocorrencia_uf ocorrencia_aerodromo ocorrencia_dia  \\\n0         RIO DE JANEIRO            RJ                 <NA>     2010-01-03   \n1                  BELÉM            PA                 SBBE     2010-01-03   \n2         RIO DE JANEIRO            RJ                 SBRJ     2010-01-03   \n3     LUCAS DO RIO VERDE            MT                 <NA>     2010-01-04   \n4                PELOTAS            RS                 SBPK     2010-01-05   \n...                  ...           ...                  ...            ...   \n5747            CAMPINAS            SP                 SBKP     2020-12-29   \n5748   LAGOA DA CONFUSÃO            TO                 <NA>     2020-12-30   \n5749      RIO DE JANEIRO            RJ                 SBGL     2020-12-30   \n5750           VICENTINA            MS                 <NA>     2020-12-31   \n5751      RIO DE JANEIRO            RJ                 SBJR     2020-12-31   \n\n     ocorrencia_hora  total_recomendacoes  \n0           12:00:00                    0  \n1           11:05:00                    0  \n2           03:00:00                    0  \n3           17:30:00                    0  \n4           19:25:00                    0  \n...              ...                  ...  \n5747        19:00:00                    0  \n5748        18:30:00                    0  \n5749        00:54:00                    0  \n5750        09:00:00                    0  \n5751        13:24:00                    0  \n\n[5752 rows x 9 columns]",
      "text/html": "<div>\n<style scoped>\n    .dataframe tbody tr th:only-of-type {\n        vertical-align: middle;\n    }\n\n    .dataframe tbody tr th {\n        vertical-align: top;\n    }\n\n    .dataframe thead th {\n        text-align: right;\n    }\n</style>\n<table border=\"1\" class=\"dataframe\">\n  <thead>\n    <tr style=\"text-align: right;\">\n      <th></th>\n      <th>codigo_ocorrencia</th>\n      <th>codigo_ocorrencia2</th>\n      <th>ocorrencia_classificacao</th>\n      <th>ocorrencia_cidade</th>\n      <th>ocorrencia_uf</th>\n      <th>ocorrencia_aerodromo</th>\n      <th>ocorrencia_dia</th>\n      <th>ocorrencia_hora</th>\n      <th>total_recomendacoes</th>\n    </tr>\n  </thead>\n  <tbody>\n    <tr>\n      <th>0</th>\n      <td>40211</td>\n      <td>40211</td>\n      <td>INCIDENTE</td>\n      <td>RIO DE JANEIRO</td>\n      <td>RJ</td>\n      <td>&lt;NA&gt;</td>\n      <td>2010-01-03</td>\n      <td>12:00:00</td>\n      <td>0</td>\n    </tr>\n    <tr>\n      <th>1</th>\n      <td>40349</td>\n      <td>40349</td>\n      <td>INCIDENTE</td>\n      <td>BELÉM</td>\n      <td>PA</td>\n      <td>SBBE</td>\n      <td>2010-01-03</td>\n      <td>11:05:00</td>\n      <td>0</td>\n    </tr>\n    <tr>\n      <th>2</th>\n      <td>40351</td>\n      <td>40351</td>\n      <td>INCIDENTE</td>\n      <td>RIO DE JANEIRO</td>\n      <td>RJ</td>\n      <td>SBRJ</td>\n      <td>2010-01-03</td>\n      <td>03:00:00</td>\n      <td>0</td>\n    </tr>\n    <tr>\n      <th>3</th>\n      <td>39527</td>\n      <td>39527</td>\n      <td>ACIDENTE</td>\n      <td>LUCAS DO RIO VERDE</td>\n      <td>MT</td>\n      <td>&lt;NA&gt;</td>\n      <td>2010-01-04</td>\n      <td>17:30:00</td>\n      <td>0</td>\n    </tr>\n    <tr>\n      <th>4</th>\n      <td>40324</td>\n      <td>40324</td>\n      <td>INCIDENTE</td>\n      <td>PELOTAS</td>\n      <td>RS</td>\n      <td>SBPK</td>\n      <td>2010-01-05</td>\n      <td>19:25:00</td>\n      <td>0</td>\n    </tr>\n    <tr>\n      <th>...</th>\n      <td>...</td>\n      <td>...</td>\n      <td>...</td>\n      <td>...</td>\n      <td>...</td>\n      <td>...</td>\n      <td>...</td>\n      <td>...</td>\n      <td>...</td>\n    </tr>\n    <tr>\n      <th>5747</th>\n      <td>79804</td>\n      <td>79804</td>\n      <td>INCIDENTE</td>\n      <td>CAMPINAS</td>\n      <td>SP</td>\n      <td>SBKP</td>\n      <td>2020-12-29</td>\n      <td>19:00:00</td>\n      <td>0</td>\n    </tr>\n    <tr>\n      <th>5748</th>\n      <td>79757</td>\n      <td>79757</td>\n      <td>INCIDENTE GRAVE</td>\n      <td>LAGOA DA CONFUSÃO</td>\n      <td>TO</td>\n      <td>&lt;NA&gt;</td>\n      <td>2020-12-30</td>\n      <td>18:30:00</td>\n      <td>0</td>\n    </tr>\n    <tr>\n      <th>5749</th>\n      <td>79802</td>\n      <td>79802</td>\n      <td>INCIDENTE</td>\n      <td>RIO DE JANEIRO</td>\n      <td>RJ</td>\n      <td>SBGL</td>\n      <td>2020-12-30</td>\n      <td>00:54:00</td>\n      <td>0</td>\n    </tr>\n    <tr>\n      <th>5750</th>\n      <td>79756</td>\n      <td>79756</td>\n      <td>INCIDENTE GRAVE</td>\n      <td>VICENTINA</td>\n      <td>MS</td>\n      <td>&lt;NA&gt;</td>\n      <td>2020-12-31</td>\n      <td>09:00:00</td>\n      <td>0</td>\n    </tr>\n    <tr>\n      <th>5751</th>\n      <td>79844</td>\n      <td>79844</td>\n      <td>INCIDENTE</td>\n      <td>RIO DE JANEIRO</td>\n      <td>RJ</td>\n      <td>SBJR</td>\n      <td>2020-12-31</td>\n      <td>13:24:00</td>\n      <td>0</td>\n    </tr>\n  </tbody>\n</table>\n<p>5752 rows × 9 columns</p>\n</div>"
     },
     "execution_count": 34,
     "metadata": {},
     "output_type": "execute_result"
    }
   ],
   "source": [
    "df_AcidentesAeronaves"
   ],
   "metadata": {
    "collapsed": false,
    "pycharm": {
     "name": "#%%\n"
    }
   }
  },
  {
   "cell_type": "code",
   "execution_count": 35,
   "outputs": [
    {
     "data": {
      "text/plain": "     codigo_ocorrencia codigo_ocorrencia2 ocorrencia_classificacao  \\\n0                40211              40211                INCIDENTE   \n1                40349              40349                INCIDENTE   \n2                40351              40351                INCIDENTE   \n3                39527              39527                 ACIDENTE   \n4                40324              40324                INCIDENTE   \n...                ...                ...                      ...   \n5747             79804              79804                INCIDENTE   \n5748             79757              79757          INCIDENTE GRAVE   \n5749             79802              79802                INCIDENTE   \n5750             79756              79756          INCIDENTE GRAVE   \n5751             79844              79844                INCIDENTE   \n\n       ocorrencia_cidade ocorrencia_uf ocorrencia_aerodromo ocorrencia_dia  \\\n0         RIO DE JANEIRO            RJ                 <NA>     2010-01-03   \n1                  BELÉM            PA                 SBBE     2010-01-03   \n2         RIO DE JANEIRO            RJ                 SBRJ     2010-01-03   \n3     LUCAS DO RIO VERDE            MT                 <NA>     2010-01-04   \n4                PELOTAS            RS                 SBPK     2010-01-05   \n...                  ...           ...                  ...            ...   \n5747            CAMPINAS            SP                 SBKP     2020-12-29   \n5748   LAGOA DA CONFUSÃO            TO                 <NA>     2020-12-30   \n5749      RIO DE JANEIRO            RJ                 SBGL     2020-12-30   \n5750           VICENTINA            MS                 <NA>     2020-12-31   \n5751      RIO DE JANEIRO            RJ                 SBJR     2020-12-31   \n\n     ocorrencia_hora  total_recomendacoes  \n0           12:00:00                    0  \n1           11:05:00                    0  \n2           03:00:00                    0  \n3           17:30:00                    0  \n4           19:25:00                    0  \n...              ...                  ...  \n5747        19:00:00                    0  \n5748        18:30:00                    0  \n5749        00:54:00                    0  \n5750        09:00:00                    0  \n5751        13:24:00                    0  \n\n[5751 rows x 9 columns]",
      "text/html": "<div>\n<style scoped>\n    .dataframe tbody tr th:only-of-type {\n        vertical-align: middle;\n    }\n\n    .dataframe tbody tr th {\n        vertical-align: top;\n    }\n\n    .dataframe thead th {\n        text-align: right;\n    }\n</style>\n<table border=\"1\" class=\"dataframe\">\n  <thead>\n    <tr style=\"text-align: right;\">\n      <th></th>\n      <th>codigo_ocorrencia</th>\n      <th>codigo_ocorrencia2</th>\n      <th>ocorrencia_classificacao</th>\n      <th>ocorrencia_cidade</th>\n      <th>ocorrencia_uf</th>\n      <th>ocorrencia_aerodromo</th>\n      <th>ocorrencia_dia</th>\n      <th>ocorrencia_hora</th>\n      <th>total_recomendacoes</th>\n    </tr>\n  </thead>\n  <tbody>\n    <tr>\n      <th>0</th>\n      <td>40211</td>\n      <td>40211</td>\n      <td>INCIDENTE</td>\n      <td>RIO DE JANEIRO</td>\n      <td>RJ</td>\n      <td>&lt;NA&gt;</td>\n      <td>2010-01-03</td>\n      <td>12:00:00</td>\n      <td>0</td>\n    </tr>\n    <tr>\n      <th>1</th>\n      <td>40349</td>\n      <td>40349</td>\n      <td>INCIDENTE</td>\n      <td>BELÉM</td>\n      <td>PA</td>\n      <td>SBBE</td>\n      <td>2010-01-03</td>\n      <td>11:05:00</td>\n      <td>0</td>\n    </tr>\n    <tr>\n      <th>2</th>\n      <td>40351</td>\n      <td>40351</td>\n      <td>INCIDENTE</td>\n      <td>RIO DE JANEIRO</td>\n      <td>RJ</td>\n      <td>SBRJ</td>\n      <td>2010-01-03</td>\n      <td>03:00:00</td>\n      <td>0</td>\n    </tr>\n    <tr>\n      <th>3</th>\n      <td>39527</td>\n      <td>39527</td>\n      <td>ACIDENTE</td>\n      <td>LUCAS DO RIO VERDE</td>\n      <td>MT</td>\n      <td>&lt;NA&gt;</td>\n      <td>2010-01-04</td>\n      <td>17:30:00</td>\n      <td>0</td>\n    </tr>\n    <tr>\n      <th>4</th>\n      <td>40324</td>\n      <td>40324</td>\n      <td>INCIDENTE</td>\n      <td>PELOTAS</td>\n      <td>RS</td>\n      <td>SBPK</td>\n      <td>2010-01-05</td>\n      <td>19:25:00</td>\n      <td>0</td>\n    </tr>\n    <tr>\n      <th>...</th>\n      <td>...</td>\n      <td>...</td>\n      <td>...</td>\n      <td>...</td>\n      <td>...</td>\n      <td>...</td>\n      <td>...</td>\n      <td>...</td>\n      <td>...</td>\n    </tr>\n    <tr>\n      <th>5747</th>\n      <td>79804</td>\n      <td>79804</td>\n      <td>INCIDENTE</td>\n      <td>CAMPINAS</td>\n      <td>SP</td>\n      <td>SBKP</td>\n      <td>2020-12-29</td>\n      <td>19:00:00</td>\n      <td>0</td>\n    </tr>\n    <tr>\n      <th>5748</th>\n      <td>79757</td>\n      <td>79757</td>\n      <td>INCIDENTE GRAVE</td>\n      <td>LAGOA DA CONFUSÃO</td>\n      <td>TO</td>\n      <td>&lt;NA&gt;</td>\n      <td>2020-12-30</td>\n      <td>18:30:00</td>\n      <td>0</td>\n    </tr>\n    <tr>\n      <th>5749</th>\n      <td>79802</td>\n      <td>79802</td>\n      <td>INCIDENTE</td>\n      <td>RIO DE JANEIRO</td>\n      <td>RJ</td>\n      <td>SBGL</td>\n      <td>2020-12-30</td>\n      <td>00:54:00</td>\n      <td>0</td>\n    </tr>\n    <tr>\n      <th>5750</th>\n      <td>79756</td>\n      <td>79756</td>\n      <td>INCIDENTE GRAVE</td>\n      <td>VICENTINA</td>\n      <td>MS</td>\n      <td>&lt;NA&gt;</td>\n      <td>2020-12-31</td>\n      <td>09:00:00</td>\n      <td>0</td>\n    </tr>\n    <tr>\n      <th>5751</th>\n      <td>79844</td>\n      <td>79844</td>\n      <td>INCIDENTE</td>\n      <td>RIO DE JANEIRO</td>\n      <td>RJ</td>\n      <td>SBJR</td>\n      <td>2020-12-31</td>\n      <td>13:24:00</td>\n      <td>0</td>\n    </tr>\n  </tbody>\n</table>\n<p>5751 rows × 9 columns</p>\n</div>"
     },
     "execution_count": 35,
     "metadata": {},
     "output_type": "execute_result"
    }
   ],
   "source": [
    "df_AcidentesAeronaves.dropna(subset=['ocorrencia_uf'])"
   ],
   "metadata": {
    "collapsed": false,
    "pycharm": {
     "name": "#%%\n"
    }
   }
  },
  {
   "cell_type": "code",
   "execution_count": 36,
   "outputs": [
    {
     "data": {
      "text/plain": "     codigo_ocorrencia codigo_ocorrencia2 ocorrencia_classificacao  \\\n0                40211              40211                INCIDENTE   \n1                40349              40349                INCIDENTE   \n2                40351              40351                INCIDENTE   \n3                39527              39527                 ACIDENTE   \n4                40324              40324                INCIDENTE   \n...                ...                ...                      ...   \n5747             79804              79804                INCIDENTE   \n5748             79757              79757          INCIDENTE GRAVE   \n5749             79802              79802                INCIDENTE   \n5750             79756              79756          INCIDENTE GRAVE   \n5751             79844              79844                INCIDENTE   \n\n       ocorrencia_cidade ocorrencia_uf ocorrencia_aerodromo ocorrencia_dia  \\\n0         RIO DE JANEIRO            RJ                 <NA>     2010-01-03   \n1                  BELÉM            PA                 SBBE     2010-01-03   \n2         RIO DE JANEIRO            RJ                 SBRJ     2010-01-03   \n3     LUCAS DO RIO VERDE            MT                 <NA>     2010-01-04   \n4                PELOTAS            RS                 SBPK     2010-01-05   \n...                  ...           ...                  ...            ...   \n5747            CAMPINAS            SP                 SBKP     2020-12-29   \n5748   LAGOA DA CONFUSÃO            TO                 <NA>     2020-12-30   \n5749      RIO DE JANEIRO            RJ                 SBGL     2020-12-30   \n5750           VICENTINA            MS                 <NA>     2020-12-31   \n5751      RIO DE JANEIRO            RJ                 SBJR     2020-12-31   \n\n     ocorrencia_hora  total_recomendacoes  \n0           12:00:00                    0  \n1           11:05:00                    0  \n2           03:00:00                    0  \n3           17:30:00                    0  \n4           19:25:00                    0  \n...              ...                  ...  \n5747        19:00:00                    0  \n5748        18:30:00                    0  \n5749        00:54:00                    0  \n5750        09:00:00                    0  \n5751        13:24:00                    0  \n\n[5752 rows x 9 columns]",
      "text/html": "<div>\n<style scoped>\n    .dataframe tbody tr th:only-of-type {\n        vertical-align: middle;\n    }\n\n    .dataframe tbody tr th {\n        vertical-align: top;\n    }\n\n    .dataframe thead th {\n        text-align: right;\n    }\n</style>\n<table border=\"1\" class=\"dataframe\">\n  <thead>\n    <tr style=\"text-align: right;\">\n      <th></th>\n      <th>codigo_ocorrencia</th>\n      <th>codigo_ocorrencia2</th>\n      <th>ocorrencia_classificacao</th>\n      <th>ocorrencia_cidade</th>\n      <th>ocorrencia_uf</th>\n      <th>ocorrencia_aerodromo</th>\n      <th>ocorrencia_dia</th>\n      <th>ocorrencia_hora</th>\n      <th>total_recomendacoes</th>\n    </tr>\n  </thead>\n  <tbody>\n    <tr>\n      <th>0</th>\n      <td>40211</td>\n      <td>40211</td>\n      <td>INCIDENTE</td>\n      <td>RIO DE JANEIRO</td>\n      <td>RJ</td>\n      <td>&lt;NA&gt;</td>\n      <td>2010-01-03</td>\n      <td>12:00:00</td>\n      <td>0</td>\n    </tr>\n    <tr>\n      <th>1</th>\n      <td>40349</td>\n      <td>40349</td>\n      <td>INCIDENTE</td>\n      <td>BELÉM</td>\n      <td>PA</td>\n      <td>SBBE</td>\n      <td>2010-01-03</td>\n      <td>11:05:00</td>\n      <td>0</td>\n    </tr>\n    <tr>\n      <th>2</th>\n      <td>40351</td>\n      <td>40351</td>\n      <td>INCIDENTE</td>\n      <td>RIO DE JANEIRO</td>\n      <td>RJ</td>\n      <td>SBRJ</td>\n      <td>2010-01-03</td>\n      <td>03:00:00</td>\n      <td>0</td>\n    </tr>\n    <tr>\n      <th>3</th>\n      <td>39527</td>\n      <td>39527</td>\n      <td>ACIDENTE</td>\n      <td>LUCAS DO RIO VERDE</td>\n      <td>MT</td>\n      <td>&lt;NA&gt;</td>\n      <td>2010-01-04</td>\n      <td>17:30:00</td>\n      <td>0</td>\n    </tr>\n    <tr>\n      <th>4</th>\n      <td>40324</td>\n      <td>40324</td>\n      <td>INCIDENTE</td>\n      <td>PELOTAS</td>\n      <td>RS</td>\n      <td>SBPK</td>\n      <td>2010-01-05</td>\n      <td>19:25:00</td>\n      <td>0</td>\n    </tr>\n    <tr>\n      <th>...</th>\n      <td>...</td>\n      <td>...</td>\n      <td>...</td>\n      <td>...</td>\n      <td>...</td>\n      <td>...</td>\n      <td>...</td>\n      <td>...</td>\n      <td>...</td>\n    </tr>\n    <tr>\n      <th>5747</th>\n      <td>79804</td>\n      <td>79804</td>\n      <td>INCIDENTE</td>\n      <td>CAMPINAS</td>\n      <td>SP</td>\n      <td>SBKP</td>\n      <td>2020-12-29</td>\n      <td>19:00:00</td>\n      <td>0</td>\n    </tr>\n    <tr>\n      <th>5748</th>\n      <td>79757</td>\n      <td>79757</td>\n      <td>INCIDENTE GRAVE</td>\n      <td>LAGOA DA CONFUSÃO</td>\n      <td>TO</td>\n      <td>&lt;NA&gt;</td>\n      <td>2020-12-30</td>\n      <td>18:30:00</td>\n      <td>0</td>\n    </tr>\n    <tr>\n      <th>5749</th>\n      <td>79802</td>\n      <td>79802</td>\n      <td>INCIDENTE</td>\n      <td>RIO DE JANEIRO</td>\n      <td>RJ</td>\n      <td>SBGL</td>\n      <td>2020-12-30</td>\n      <td>00:54:00</td>\n      <td>0</td>\n    </tr>\n    <tr>\n      <th>5750</th>\n      <td>79756</td>\n      <td>79756</td>\n      <td>INCIDENTE GRAVE</td>\n      <td>VICENTINA</td>\n      <td>MS</td>\n      <td>&lt;NA&gt;</td>\n      <td>2020-12-31</td>\n      <td>09:00:00</td>\n      <td>0</td>\n    </tr>\n    <tr>\n      <th>5751</th>\n      <td>79844</td>\n      <td>79844</td>\n      <td>INCIDENTE</td>\n      <td>RIO DE JANEIRO</td>\n      <td>RJ</td>\n      <td>SBJR</td>\n      <td>2020-12-31</td>\n      <td>13:24:00</td>\n      <td>0</td>\n    </tr>\n  </tbody>\n</table>\n<p>5752 rows × 9 columns</p>\n</div>"
     },
     "execution_count": 36,
     "metadata": {},
     "output_type": "execute_result"
    }
   ],
   "source": [
    "df_AcidentesAeronaves"
   ],
   "metadata": {
    "collapsed": false,
    "pycharm": {
     "name": "#%%\n"
    }
   }
  },
  {
   "cell_type": "code",
   "execution_count": 37,
   "outputs": [],
   "source": [
    "df_AcidentesAeronaves.drop_duplicates(inplace=True)"
   ],
   "metadata": {
    "collapsed": false,
    "pycharm": {
     "name": "#%%\n"
    }
   }
  },
  {
   "cell_type": "code",
   "execution_count": 38,
   "outputs": [
    {
     "data": {
      "text/plain": "     codigo_ocorrencia codigo_ocorrencia2 ocorrencia_classificacao  \\\n0                40211              40211                INCIDENTE   \n1                40349              40349                INCIDENTE   \n2                40351              40351                INCIDENTE   \n3                39527              39527                 ACIDENTE   \n4                40324              40324                INCIDENTE   \n...                ...                ...                      ...   \n5747             79804              79804                INCIDENTE   \n5748             79757              79757          INCIDENTE GRAVE   \n5749             79802              79802                INCIDENTE   \n5750             79756              79756          INCIDENTE GRAVE   \n5751             79844              79844                INCIDENTE   \n\n       ocorrencia_cidade ocorrencia_uf ocorrencia_aerodromo ocorrencia_dia  \\\n0         RIO DE JANEIRO            RJ                 <NA>     2010-01-03   \n1                  BELÉM            PA                 SBBE     2010-01-03   \n2         RIO DE JANEIRO            RJ                 SBRJ     2010-01-03   \n3     LUCAS DO RIO VERDE            MT                 <NA>     2010-01-04   \n4                PELOTAS            RS                 SBPK     2010-01-05   \n...                  ...           ...                  ...            ...   \n5747            CAMPINAS            SP                 SBKP     2020-12-29   \n5748   LAGOA DA CONFUSÃO            TO                 <NA>     2020-12-30   \n5749      RIO DE JANEIRO            RJ                 SBGL     2020-12-30   \n5750           VICENTINA            MS                 <NA>     2020-12-31   \n5751      RIO DE JANEIRO            RJ                 SBJR     2020-12-31   \n\n     ocorrencia_hora  total_recomendacoes  \n0           12:00:00                    0  \n1           11:05:00                    0  \n2           03:00:00                    0  \n3           17:30:00                    0  \n4           19:25:00                    0  \n...              ...                  ...  \n5747        19:00:00                    0  \n5748        18:30:00                    0  \n5749        00:54:00                    0  \n5750        09:00:00                    0  \n5751        13:24:00                    0  \n\n[5752 rows x 9 columns]",
      "text/html": "<div>\n<style scoped>\n    .dataframe tbody tr th:only-of-type {\n        vertical-align: middle;\n    }\n\n    .dataframe tbody tr th {\n        vertical-align: top;\n    }\n\n    .dataframe thead th {\n        text-align: right;\n    }\n</style>\n<table border=\"1\" class=\"dataframe\">\n  <thead>\n    <tr style=\"text-align: right;\">\n      <th></th>\n      <th>codigo_ocorrencia</th>\n      <th>codigo_ocorrencia2</th>\n      <th>ocorrencia_classificacao</th>\n      <th>ocorrencia_cidade</th>\n      <th>ocorrencia_uf</th>\n      <th>ocorrencia_aerodromo</th>\n      <th>ocorrencia_dia</th>\n      <th>ocorrencia_hora</th>\n      <th>total_recomendacoes</th>\n    </tr>\n  </thead>\n  <tbody>\n    <tr>\n      <th>0</th>\n      <td>40211</td>\n      <td>40211</td>\n      <td>INCIDENTE</td>\n      <td>RIO DE JANEIRO</td>\n      <td>RJ</td>\n      <td>&lt;NA&gt;</td>\n      <td>2010-01-03</td>\n      <td>12:00:00</td>\n      <td>0</td>\n    </tr>\n    <tr>\n      <th>1</th>\n      <td>40349</td>\n      <td>40349</td>\n      <td>INCIDENTE</td>\n      <td>BELÉM</td>\n      <td>PA</td>\n      <td>SBBE</td>\n      <td>2010-01-03</td>\n      <td>11:05:00</td>\n      <td>0</td>\n    </tr>\n    <tr>\n      <th>2</th>\n      <td>40351</td>\n      <td>40351</td>\n      <td>INCIDENTE</td>\n      <td>RIO DE JANEIRO</td>\n      <td>RJ</td>\n      <td>SBRJ</td>\n      <td>2010-01-03</td>\n      <td>03:00:00</td>\n      <td>0</td>\n    </tr>\n    <tr>\n      <th>3</th>\n      <td>39527</td>\n      <td>39527</td>\n      <td>ACIDENTE</td>\n      <td>LUCAS DO RIO VERDE</td>\n      <td>MT</td>\n      <td>&lt;NA&gt;</td>\n      <td>2010-01-04</td>\n      <td>17:30:00</td>\n      <td>0</td>\n    </tr>\n    <tr>\n      <th>4</th>\n      <td>40324</td>\n      <td>40324</td>\n      <td>INCIDENTE</td>\n      <td>PELOTAS</td>\n      <td>RS</td>\n      <td>SBPK</td>\n      <td>2010-01-05</td>\n      <td>19:25:00</td>\n      <td>0</td>\n    </tr>\n    <tr>\n      <th>...</th>\n      <td>...</td>\n      <td>...</td>\n      <td>...</td>\n      <td>...</td>\n      <td>...</td>\n      <td>...</td>\n      <td>...</td>\n      <td>...</td>\n      <td>...</td>\n    </tr>\n    <tr>\n      <th>5747</th>\n      <td>79804</td>\n      <td>79804</td>\n      <td>INCIDENTE</td>\n      <td>CAMPINAS</td>\n      <td>SP</td>\n      <td>SBKP</td>\n      <td>2020-12-29</td>\n      <td>19:00:00</td>\n      <td>0</td>\n    </tr>\n    <tr>\n      <th>5748</th>\n      <td>79757</td>\n      <td>79757</td>\n      <td>INCIDENTE GRAVE</td>\n      <td>LAGOA DA CONFUSÃO</td>\n      <td>TO</td>\n      <td>&lt;NA&gt;</td>\n      <td>2020-12-30</td>\n      <td>18:30:00</td>\n      <td>0</td>\n    </tr>\n    <tr>\n      <th>5749</th>\n      <td>79802</td>\n      <td>79802</td>\n      <td>INCIDENTE</td>\n      <td>RIO DE JANEIRO</td>\n      <td>RJ</td>\n      <td>SBGL</td>\n      <td>2020-12-30</td>\n      <td>00:54:00</td>\n      <td>0</td>\n    </tr>\n    <tr>\n      <th>5750</th>\n      <td>79756</td>\n      <td>79756</td>\n      <td>INCIDENTE GRAVE</td>\n      <td>VICENTINA</td>\n      <td>MS</td>\n      <td>&lt;NA&gt;</td>\n      <td>2020-12-31</td>\n      <td>09:00:00</td>\n      <td>0</td>\n    </tr>\n    <tr>\n      <th>5751</th>\n      <td>79844</td>\n      <td>79844</td>\n      <td>INCIDENTE</td>\n      <td>RIO DE JANEIRO</td>\n      <td>RJ</td>\n      <td>SBJR</td>\n      <td>2020-12-31</td>\n      <td>13:24:00</td>\n      <td>0</td>\n    </tr>\n  </tbody>\n</table>\n<p>5752 rows × 9 columns</p>\n</div>"
     },
     "execution_count": 38,
     "metadata": {},
     "output_type": "execute_result"
    }
   ],
   "source": [
    "df_AcidentesAeronaves"
   ],
   "metadata": {
    "collapsed": false,
    "pycharm": {
     "name": "#%%\n"
    }
   }
  }
 ],
 "metadata": {
  "kernelspec": {
   "display_name": "Python 3",
   "language": "python",
   "name": "python3"
  },
  "language_info": {
   "codemirror_mode": {
    "name": "ipython",
    "version": 2
   },
   "file_extension": ".py",
   "mimetype": "text/x-python",
   "name": "python",
   "nbconvert_exporter": "python",
   "pygments_lexer": "ipython2",
   "version": "2.7.6"
  }
 },
 "nbformat": 4,
 "nbformat_minor": 0
}