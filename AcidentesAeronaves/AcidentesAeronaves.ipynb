{
 "cells": [
  {
   "cell_type": "code",
   "execution_count": 44,
   "outputs": [
    {
     "data": {
      "text/plain": "'coding: utf-8'"
     },
     "execution_count": 44,
     "metadata": {},
     "output_type": "execute_result"
    }
   ],
   "source": [
    "\"\"\"coding: utf-8\"\"\""
   ],
   "metadata": {
    "collapsed": false,
    "pycharm": {
     "name": "#%%\n"
    }
   }
  },
  {
   "cell_type": "code",
   "execution_count": 45,
   "metadata": {
    "collapsed": true
   },
   "outputs": [],
   "source": [
    "import pandas as pd\n",
    "import pandera as pa"
   ]
  },
  {
   "cell_type": "code",
   "execution_count": 46,
   "outputs": [],
   "source": [
    "df_AcidentesAeronaves = pd.read_csv(\"ocorrencia_2010_2020.csv\", sep=\";\", parse_dates=[\"ocorrencia_dia\"], dayfirst=True)\n"
   ],
   "metadata": {
    "collapsed": false,
    "pycharm": {
     "name": "#%%\n"
    }
   }
  },
  {
   "cell_type": "code",
   "execution_count": 47,
   "outputs": [
    {
     "data": {
      "text/plain": "codigo_ocorrencia                    int64\ncodigo_ocorrencia2                   int64\nocorrencia_classificacao            object\nocorrencia_cidade                   object\nocorrencia_uf                       object\nocorrencia_aerodromo                object\nocorrencia_dia              datetime64[ns]\nocorrencia_hora                     object\ntotal_recomendacoes                  int64\ndtype: object"
     },
     "execution_count": 47,
     "metadata": {},
     "output_type": "execute_result"
    }
   ],
   "source": [
    "df_AcidentesAeronaves.dtypes"
   ],
   "metadata": {
    "collapsed": false,
    "pycharm": {
     "name": "#%%\n"
    }
   }
  },
  {
   "cell_type": "code",
   "execution_count": 51,
   "outputs": [],
   "source": [
    "schema = pa.DataFrameSchema(\n",
    "    columns={\n",
    "        \"codigo_ocorrencia\": pa.Column(pa.Int),\n",
    "        \"codigo_ocorrencia2\": pa.Column(pa.Int),\n",
    "        \"ocorrencia_classificacao\": pa.Column(pa.String),\n",
    "        \"ocorrencia_cidade\": pa.Column(pa.String),\n",
    "        \"ocorrencia_uf\": pa.Column(pa.String),\n",
    "        \"ocorrencia_aerodromo\": pa.Column(pa.String),\n",
    "        \"ocorrencia_dia\": pa.Column(pa.DateTime),\n",
    "        \"ocorrencia_hora\": pa.Column(pa.String, nullable=True),\n",
    "        \"total_recomendacoes\": pa.Column(pa.Int)\n",
    "    }\n",
    ")"
   ],
   "metadata": {
    "collapsed": false,
    "pycharm": {
     "name": "#%%\n"
    }
   }
  },
  {
   "cell_type": "code",
   "execution_count": 52,
   "outputs": [
    {
     "data": {
      "text/plain": "      codigo_ocorrencia  codigo_ocorrencia2 ocorrencia_classificacao  \\\n0                 40211               40211                INCIDENTE   \n1                 40349               40349                INCIDENTE   \n2                 40351               40351                INCIDENTE   \n3                 39527               39527                 ACIDENTE   \n4                 40324               40324                INCIDENTE   \n...                 ...                 ...                      ...   \n5747              79804               79804                INCIDENTE   \n5748              79757               79757          INCIDENTE GRAVE   \n5749              79802               79802                INCIDENTE   \n5750              79756               79756          INCIDENTE GRAVE   \n5751              79844               79844                INCIDENTE   \n\n       ocorrencia_cidade ocorrencia_uf ocorrencia_aerodromo ocorrencia_dia  \\\n0         RIO DE JANEIRO            RJ                 ****     2010-01-03   \n1                  BELÉM            PA                 SBBE     2010-01-03   \n2         RIO DE JANEIRO            RJ                 SBRJ     2010-01-03   \n3     LUCAS DO RIO VERDE            MT                 ****     2010-01-04   \n4                PELOTAS            RS                 SBPK     2010-01-05   \n...                  ...           ...                  ...            ...   \n5747            CAMPINAS            SP                 SBKP     2020-12-29   \n5748   LAGOA DA CONFUSÃO            TO                 ****     2020-12-30   \n5749      RIO DE JANEIRO            RJ                 SBGL     2020-12-30   \n5750           VICENTINA            MS                 ****     2020-12-31   \n5751      RIO DE JANEIRO            RJ                 SBJR     2020-12-31   \n\n     ocorrencia_hora  total_recomendacoes  \n0           12:00:00                    0  \n1           11:05:00                    0  \n2           03:00:00                    0  \n3           17:30:00                    0  \n4           19:25:00                    0  \n...              ...                  ...  \n5747        19:00:00                    0  \n5748        18:30:00                    0  \n5749        00:54:00                    0  \n5750        09:00:00                    0  \n5751        13:24:00                    0  \n\n[5752 rows x 9 columns]",
      "text/html": "<div>\n<style scoped>\n    .dataframe tbody tr th:only-of-type {\n        vertical-align: middle;\n    }\n\n    .dataframe tbody tr th {\n        vertical-align: top;\n    }\n\n    .dataframe thead th {\n        text-align: right;\n    }\n</style>\n<table border=\"1\" class=\"dataframe\">\n  <thead>\n    <tr style=\"text-align: right;\">\n      <th></th>\n      <th>codigo_ocorrencia</th>\n      <th>codigo_ocorrencia2</th>\n      <th>ocorrencia_classificacao</th>\n      <th>ocorrencia_cidade</th>\n      <th>ocorrencia_uf</th>\n      <th>ocorrencia_aerodromo</th>\n      <th>ocorrencia_dia</th>\n      <th>ocorrencia_hora</th>\n      <th>total_recomendacoes</th>\n    </tr>\n  </thead>\n  <tbody>\n    <tr>\n      <th>0</th>\n      <td>40211</td>\n      <td>40211</td>\n      <td>INCIDENTE</td>\n      <td>RIO DE JANEIRO</td>\n      <td>RJ</td>\n      <td>****</td>\n      <td>2010-01-03</td>\n      <td>12:00:00</td>\n      <td>0</td>\n    </tr>\n    <tr>\n      <th>1</th>\n      <td>40349</td>\n      <td>40349</td>\n      <td>INCIDENTE</td>\n      <td>BELÉM</td>\n      <td>PA</td>\n      <td>SBBE</td>\n      <td>2010-01-03</td>\n      <td>11:05:00</td>\n      <td>0</td>\n    </tr>\n    <tr>\n      <th>2</th>\n      <td>40351</td>\n      <td>40351</td>\n      <td>INCIDENTE</td>\n      <td>RIO DE JANEIRO</td>\n      <td>RJ</td>\n      <td>SBRJ</td>\n      <td>2010-01-03</td>\n      <td>03:00:00</td>\n      <td>0</td>\n    </tr>\n    <tr>\n      <th>3</th>\n      <td>39527</td>\n      <td>39527</td>\n      <td>ACIDENTE</td>\n      <td>LUCAS DO RIO VERDE</td>\n      <td>MT</td>\n      <td>****</td>\n      <td>2010-01-04</td>\n      <td>17:30:00</td>\n      <td>0</td>\n    </tr>\n    <tr>\n      <th>4</th>\n      <td>40324</td>\n      <td>40324</td>\n      <td>INCIDENTE</td>\n      <td>PELOTAS</td>\n      <td>RS</td>\n      <td>SBPK</td>\n      <td>2010-01-05</td>\n      <td>19:25:00</td>\n      <td>0</td>\n    </tr>\n    <tr>\n      <th>...</th>\n      <td>...</td>\n      <td>...</td>\n      <td>...</td>\n      <td>...</td>\n      <td>...</td>\n      <td>...</td>\n      <td>...</td>\n      <td>...</td>\n      <td>...</td>\n    </tr>\n    <tr>\n      <th>5747</th>\n      <td>79804</td>\n      <td>79804</td>\n      <td>INCIDENTE</td>\n      <td>CAMPINAS</td>\n      <td>SP</td>\n      <td>SBKP</td>\n      <td>2020-12-29</td>\n      <td>19:00:00</td>\n      <td>0</td>\n    </tr>\n    <tr>\n      <th>5748</th>\n      <td>79757</td>\n      <td>79757</td>\n      <td>INCIDENTE GRAVE</td>\n      <td>LAGOA DA CONFUSÃO</td>\n      <td>TO</td>\n      <td>****</td>\n      <td>2020-12-30</td>\n      <td>18:30:00</td>\n      <td>0</td>\n    </tr>\n    <tr>\n      <th>5749</th>\n      <td>79802</td>\n      <td>79802</td>\n      <td>INCIDENTE</td>\n      <td>RIO DE JANEIRO</td>\n      <td>RJ</td>\n      <td>SBGL</td>\n      <td>2020-12-30</td>\n      <td>00:54:00</td>\n      <td>0</td>\n    </tr>\n    <tr>\n      <th>5750</th>\n      <td>79756</td>\n      <td>79756</td>\n      <td>INCIDENTE GRAVE</td>\n      <td>VICENTINA</td>\n      <td>MS</td>\n      <td>****</td>\n      <td>2020-12-31</td>\n      <td>09:00:00</td>\n      <td>0</td>\n    </tr>\n    <tr>\n      <th>5751</th>\n      <td>79844</td>\n      <td>79844</td>\n      <td>INCIDENTE</td>\n      <td>RIO DE JANEIRO</td>\n      <td>RJ</td>\n      <td>SBJR</td>\n      <td>2020-12-31</td>\n      <td>13:24:00</td>\n      <td>0</td>\n    </tr>\n  </tbody>\n</table>\n<p>5752 rows × 9 columns</p>\n</div>"
     },
     "execution_count": 52,
     "metadata": {},
     "output_type": "execute_result"
    }
   ],
   "source": [
    "schema.validate(df_AcidentesAeronaves)\n"
   ],
   "metadata": {
    "collapsed": false,
    "pycharm": {
     "name": "#%%\n"
    }
   }
  },
  {
   "cell_type": "code",
   "execution_count": null,
   "outputs": [],
   "source": [
    "df_AcidentesAeronaves.ocorrencia_dia.dt.month"
   ],
   "metadata": {
    "collapsed": false,
    "pycharm": {
     "name": "#%%\n"
    }
   }
  }
 ],
 "metadata": {
  "kernelspec": {
   "display_name": "Python 3",
   "language": "python",
   "name": "python3"
  },
  "language_info": {
   "codemirror_mode": {
    "name": "ipython",
    "version": 2
   },
   "file_extension": ".py",
   "mimetype": "text/x-python",
   "name": "python",
   "nbconvert_exporter": "python",
   "pygments_lexer": "ipython2",
   "version": "2.7.6"
  }
 },
 "nbformat": 4,
 "nbformat_minor": 0
}