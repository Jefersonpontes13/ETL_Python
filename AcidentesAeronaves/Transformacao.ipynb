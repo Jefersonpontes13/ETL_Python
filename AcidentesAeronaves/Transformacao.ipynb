{
 "cells": [
  {
   "cell_type": "code",
   "execution_count": null,
   "outputs": [],
   "source": [
    "import pandas as pd\n",
    "import pandera as pa"
   ],
   "metadata": {
    "collapsed": false,
    "pycharm": {
     "name": "#%%\n"
    }
   }
  },
  {
   "cell_type": "code",
   "execution_count": null,
   "outputs": [],
   "source": [
    "valores_ausentes = ['**','###!','####','****','*****','NULL']\n",
    "df_AcidentesAeronaves = pd.read_csv(\"ocorrencia_2010_2020.csv\", sep=\";\", parse_dates=['ocorrencia_dia'], dayfirst=True, na_values=valores_ausentes)\n",
    "df_AcidentesAeronaves.head(10)"
   ],
   "metadata": {
    "collapsed": false,
    "pycharm": {
     "name": "#%%\n"
    }
   }
  },
  {
   "cell_type": "code",
   "execution_count": null,
   "outputs": [],
   "source": [
    "schema = pa.DataFrameSchema(\n",
    "    columns = {\n",
    "        \"codigo_ocorrencia\": pa.Column(pa.Int),\n",
    "        \"codigo_ocorrencia2\": pa.Column(pa.Int),\n",
    "        \"ocorrencia_classificacao\": pa.Column(pa.String),\n",
    "        \"ocorrencia_cidade\": pa.Column(pa.String),\n",
    "        \"ocorrencia_uf\": pa.Column(pa.String, pa.Check.str_length(2,2), nullable=True),\n",
    "        \"ocorrencia_aerodromo\": pa.Column(pa.String, nullable=True),\n",
    "        \"ocorrencia_dia\": pa.Column(pa.DateTime),\n",
    "        \"ocorrencia_hora\": pa.Column(pa.String, pa.Check.str_matches(r'^([0-1]?[0-9]|[2][0-3]):([0-5][0-9])(:[0-5][0-9])?$'), nullable=True),\n",
    "        \"total_recomendacoes\": pa.Column(pa.Int)\n",
    "    }\n",
    ")"
   ],
   "metadata": {
    "collapsed": false,
    "pycharm": {
     "name": "#%%\n"
    }
   }
  },
  {
   "cell_type": "code",
   "execution_count": null,
   "outputs": [],
   "source": [
    "schema.validate(df_AcidentesAeronaves)"
   ],
   "metadata": {
    "collapsed": false,
    "pycharm": {
     "name": "#%%\n"
    }
   }
  },
  {
   "cell_type": "code",
   "execution_count": null,
   "outputs": [],
   "source": [
    "df_AcidentesAeronaves.dtypes"
   ],
   "metadata": {
    "collapsed": false,
    "pycharm": {
     "name": "#%%\n"
    }
   }
  },
  {
   "cell_type": "code",
   "execution_count": null,
   "outputs": [],
   "source": [
    "df_AcidentesAeronaves.loc[1]"
   ],
   "metadata": {
    "collapsed": false,
    "pycharm": {
     "name": "#%%\n"
    }
   }
  },
  {
   "cell_type": "code",
   "execution_count": null,
   "outputs": [],
   "source": [
    "df_AcidentesAeronaves.iloc[1]"
   ],
   "metadata": {
    "collapsed": false,
    "pycharm": {
     "name": "#%%\n"
    }
   }
  },
  {
   "cell_type": "code",
   "execution_count": null,
   "outputs": [],
   "source": [
    "df_AcidentesAeronaves.iloc[-1]"
   ],
   "metadata": {
    "collapsed": false,
    "pycharm": {
     "name": "#%%\n"
    }
   }
  },
  {
   "cell_type": "code",
   "execution_count": null,
   "outputs": [],
   "source": [
    "df_AcidentesAeronaves.tail()"
   ],
   "metadata": {
    "collapsed": false,
    "pycharm": {
     "name": "#%%\n"
    }
   }
  },
  {
   "cell_type": "code",
   "execution_count": null,
   "outputs": [],
   "source": [
    "df_AcidentesAeronaves.iloc[10:15]"
   ],
   "metadata": {
    "collapsed": false,
    "pycharm": {
     "name": "#%%\n"
    }
   }
  },
  {
   "cell_type": "code",
   "execution_count": null,
   "outputs": [],
   "source": [
    "df_AcidentesAeronaves.loc[10:15]"
   ],
   "metadata": {
    "collapsed": false,
    "pycharm": {
     "name": "#%%\n"
    }
   }
  },
  {
   "cell_type": "code",
   "execution_count": null,
   "outputs": [],
   "source": [
    "df_AcidentesAeronaves.loc[:,'ocorrencia_uf']"
   ],
   "metadata": {
    "collapsed": false,
    "pycharm": {
     "name": "#%%\n"
    }
   }
  },
  {
   "cell_type": "code",
   "execution_count": null,
   "outputs": [],
   "source": [
    "df_AcidentesAeronaves['ocorrencia_uf']"
   ],
   "metadata": {
    "collapsed": false,
    "pycharm": {
     "name": "#%%\n"
    }
   }
  },
  {
   "cell_type": "code",
   "execution_count": null,
   "outputs": [],
   "source": [
    "df_AcidentesAeronaves.isna().sum()"
   ],
   "metadata": {
    "collapsed": false,
    "pycharm": {
     "name": "#%%\n"
    }
   }
  },
  {
   "cell_type": "code",
   "execution_count": null,
   "outputs": [],
   "source": [
    "df_AcidentesAeronaves.isnull().sum()"
   ],
   "metadata": {
    "collapsed": false,
    "pycharm": {
     "name": "#%%\n"
    }
   }
  },
  {
   "cell_type": "code",
   "execution_count": null,
   "outputs": [],
   "source": [
    "filtro = df_AcidentesAeronaves.ocorrencia_uf.isnull()\n",
    "df_AcidentesAeronaves.loc[filtro]"
   ],
   "metadata": {
    "collapsed": false,
    "pycharm": {
     "name": "#%%\n"
    }
   }
  },
  {
   "cell_type": "code",
   "execution_count": null,
   "outputs": [],
   "source": [
    "filtro = df_AcidentesAeronaves.ocorrencia_aerodromo.isnull()\n",
    "df_AcidentesAeronaves.loc[filtro]"
   ],
   "metadata": {
    "collapsed": false,
    "pycharm": {
     "name": "#%%\n"
    }
   }
  },
  {
   "cell_type": "code",
   "execution_count": null,
   "outputs": [],
   "source": [
    "filtro = df_AcidentesAeronaves.ocorrencia_hora.isnull()\n",
    "df_AcidentesAeronaves.loc[filtro]"
   ],
   "metadata": {
    "collapsed": false,
    "pycharm": {
     "name": "#%%\n"
    }
   }
  },
  {
   "cell_type": "code",
   "execution_count": null,
   "outputs": [],
   "source": [
    "df_AcidentesAeronaves.count()"
   ],
   "metadata": {
    "collapsed": false,
    "pycharm": {
     "name": "#%%\n"
    }
   }
  },
  {
   "cell_type": "code",
   "execution_count": null,
   "outputs": [],
   "source": [
    "#ocorrências com mais de 10 recomendações\n",
    "filtro = df_AcidentesAeronaves.total_recomendacoes > 10\n",
    "df_AcidentesAeronaves.loc[filtro]"
   ],
   "metadata": {
    "collapsed": false,
    "pycharm": {
     "name": "#%%\n"
    }
   }
  },
  {
   "cell_type": "code",
   "execution_count": null,
   "outputs": [],
   "source": [
    "#ocorrências com mais de 10 recomendações\n",
    "filtro = df_AcidentesAeronaves.total_recomendacoes > 10\n",
    "df_AcidentesAeronaves.loc[filtro, ['ocorrencia_cidade', 'total_recomendacoes']]"
   ],
   "metadata": {
    "collapsed": false,
    "pycharm": {
     "name": "#%%\n"
    }
   }
  },
  {
   "cell_type": "code",
   "execution_count": null,
   "outputs": [],
   "source": [
    "#ocorrências cuja classificação == INCIDENTE GRAVE\n",
    "filtro = df_AcidentesAeronaves.ocorrencia_classificacao == 'INCIDENTE GRAVE'\n",
    "df_AcidentesAeronaves.loc[filtro]"
   ],
   "metadata": {
    "collapsed": false,
    "pycharm": {
     "name": "#%%\n"
    }
   }
  },
  {
   "cell_type": "code",
   "execution_count": null,
   "outputs": [],
   "source": [
    "#ocorrências cuja classificação == INCIDENTE GRAVE e o estado == SP\n",
    "filtro1 = df_AcidentesAeronaves.ocorrencia_classificacao == 'INCIDENTE GRAVE'\n",
    "filtro2 = df_AcidentesAeronaves.ocorrencia_uf == 'SP'\n",
    "df_AcidentesAeronaves.loc[filtro1 & filtro2]"
   ],
   "metadata": {
    "collapsed": false,
    "pycharm": {
     "name": "#%%\n"
    }
   }
  },
  {
   "cell_type": "code",
   "execution_count": null,
   "outputs": [],
   "source": [
    "#ocorrências cuja classificação == INCIDENTE GRAVE ou o estado == SP\n",
    "filtro1 = df_AcidentesAeronaves.ocorrencia_classificacao == 'INCIDENTE GRAVE'\n",
    "filtro2 = df_AcidentesAeronaves.ocorrencia_uf == 'SP'\n",
    "df_AcidentesAeronaves.loc[filtro1 | filtro2]"
   ],
   "metadata": {
    "collapsed": false,
    "pycharm": {
     "name": "#%%\n"
    }
   }
  },
  {
   "cell_type": "code",
   "execution_count": null,
   "outputs": [],
   "source": [
    "#ocorrências cuja (classificação == INCIDENTE GRAVE ou classificação == INCIDENTE) e o estado == SP\n",
    "filtro1 = df_AcidentesAeronaves.ocorrencia_classificacao.isin(['INCIDENTE GRAVE', 'INCIDENTE'])\n",
    "filtro2 = df_AcidentesAeronaves.ocorrencia_uf == 'SP'\n",
    "df_AcidentesAeronaves.loc[filtro1 & filtro2]"
   ],
   "metadata": {
    "collapsed": false,
    "pycharm": {
     "name": "#%%\n"
    }
   }
  },
  {
   "cell_type": "code",
   "execution_count": null,
   "outputs": [],
   "source": [
    "#ocorrências cuja cidade comecem com a letra C\n",
    "filtro = df_AcidentesAeronaves.ocorrencia_cidade.str[0] == 'C'\n",
    "df_AcidentesAeronaves.loc[filtro]"
   ],
   "metadata": {
    "collapsed": false,
    "pycharm": {
     "name": "#%%\n"
    }
   }
  },
  {
   "cell_type": "code",
   "execution_count": null,
   "outputs": [],
   "source": [
    "#ocorrências cuja cidade terminam com a letra A\n",
    "filtro = df_AcidentesAeronaves.ocorrencia_cidade.str[-1] == 'A'\n",
    "df_AcidentesAeronaves.loc[filtro]"
   ],
   "metadata": {
    "collapsed": false,
    "pycharm": {
     "name": "#%%\n"
    }
   }
  },
  {
   "cell_type": "code",
   "execution_count": null,
   "outputs": [],
   "source": [
    "#ocorrências cuja cidade terminam com os caracteres MA\n",
    "filtro = df_AcidentesAeronaves.ocorrencia_cidade.str[-2:] == 'MA'\n",
    "df_AcidentesAeronaves.loc[filtro]"
   ],
   "metadata": {
    "collapsed": false,
    "pycharm": {
     "name": "#%%\n"
    }
   }
  },
  {
   "cell_type": "code",
   "execution_count": null,
   "outputs": [],
   "source": [
    "#ocorrências cuja cidade contém (em qualquer parte do conteúdo) os caracteres MA ou AL\n",
    "filtro = df_AcidentesAeronaves.ocorrencia_cidade.str.contains('MA|AL')\n",
    "df_AcidentesAeronaves.loc[filtro]"
   ],
   "metadata": {
    "collapsed": false,
    "pycharm": {
     "name": "#%%\n"
    }
   }
  },
  {
   "cell_type": "code",
   "execution_count": null,
   "outputs": [],
   "source": [
    "#ocorrências do ano de 2015\n",
    "filtro = df_AcidentesAeronaves.ocorrencia_dia.dt.year == 2015\n",
    "df_AcidentesAeronaves.loc[filtro]"
   ],
   "metadata": {
    "collapsed": false,
    "pycharm": {
     "name": "#%%\n"
    }
   }
  },
  {
   "cell_type": "code",
   "execution_count": null,
   "outputs": [],
   "source": [
    "df_AcidentesAeronaves.dtypes"
   ],
   "metadata": {
    "collapsed": false,
    "pycharm": {
     "name": "#%%\n"
    }
   }
  },
  {
   "cell_type": "code",
   "execution_count": null,
   "outputs": [],
   "source": [
    "#ocorrências do ano de 2015 e mês 12 e dias entre 3 e 8\n",
    "filtro_ano = df_AcidentesAeronaves.ocorrencia_dia.dt.year == 2015\n",
    "filtro_mes = df_AcidentesAeronaves.ocorrencia_dia.dt.month == 12\n",
    "filtro_dia_inicio = df_AcidentesAeronaves.ocorrencia_dia.dt.day > 2\n",
    "filtro_dia_fim = df_AcidentesAeronaves.ocorrencia_dia.dt.day < 9\n",
    "df_AcidentesAeronaves.loc[filtro_ano & filtro_mes & filtro_dia_inicio & filtro_dia_fim]"
   ],
   "metadata": {
    "collapsed": false,
    "pycharm": {
     "name": "#%%\n"
    }
   }
  },
  {
   "cell_type": "code",
   "execution_count": null,
   "outputs": [],
   "source": [
    "df_AcidentesAeronaves['ocorrencia_dia_hora'] = pd.to_datetime(df_AcidentesAeronaves.ocorrencia_dia.astype(str) + ' '  + df_AcidentesAeronaves.ocorrencia_hora)"
   ],
   "metadata": {
    "collapsed": false,
    "pycharm": {
     "name": "#%%\n"
    }
   }
  },
  {
   "cell_type": "code",
   "execution_count": null,
   "outputs": [],
   "source": [
    "df_AcidentesAeronaves.head()"
   ],
   "metadata": {
    "collapsed": false,
    "pycharm": {
     "name": "#%%\n"
    }
   }
  },
  {
   "cell_type": "code",
   "execution_count": null,
   "outputs": [],
   "source": [
    "df_AcidentesAeronaves.dtypes"
   ],
   "metadata": {
    "collapsed": false,
    "pycharm": {
     "name": "#%%\n"
    }
   }
  },
  {
   "cell_type": "code",
   "execution_count": null,
   "outputs": [],
   "source": [
    "#ocorrências do ano de 2015 e mês 12 e dias entre 3 e 8\n",
    "filtro_ano = df_AcidentesAeronaves.ocorrencia_dia_hora.dt.year == 2015\n",
    "filtro_mes = df_AcidentesAeronaves.ocorrencia_dia_hora.dt.month == 12\n",
    "filtro_dia_inicio = df_AcidentesAeronaves.ocorrencia_dia_hora.dt.day > 2\n",
    "filtro_dia_fim = df_AcidentesAeronaves.ocorrencia_dia_hora.dt.day < 9\n",
    "df_AcidentesAeronaves.loc[filtro_ano & filtro_mes & filtro_dia_inicio & filtro_dia_fim]"
   ],
   "metadata": {
    "collapsed": false,
    "pycharm": {
     "name": "#%%\n"
    }
   }
  },
  {
   "cell_type": "code",
   "execution_count": null,
   "outputs": [],
   "source": [
    "filtro1 = df_AcidentesAeronaves.ocorrencia_dia_hora >= '2015-12-03 11:00:00'\n",
    "filtro2 = df_AcidentesAeronaves.ocorrencia_dia_hora <= '2015-12-08 14:30:00'\n",
    "df_AcidentesAeronaves.loc[filtro1 & filtro2]"
   ],
   "metadata": {
    "collapsed": false,
    "pycharm": {
     "name": "#%%\n"
    }
   }
  },
  {
   "cell_type": "code",
   "execution_count": null,
   "outputs": [],
   "source": [
    "#ocorrências do ano de 2015 e mês 03\n",
    "filtro1 = df_AcidentesAeronaves.ocorrencia_dia.dt.year == 2015\n",
    "filtro2 = df_AcidentesAeronaves.ocorrencia_dia.dt.month == 3\n",
    "df201503 = df_AcidentesAeronaves.loc[filtro1 & filtro2]\n",
    "df201503"
   ],
   "metadata": {
    "collapsed": false,
    "pycharm": {
     "name": "#%%\n"
    }
   }
  },
  {
   "cell_type": "code",
   "execution_count": null,
   "outputs": [],
   "source": [
    "df201503.count()"
   ],
   "metadata": {
    "collapsed": false,
    "pycharm": {
     "name": "#%%\n"
    }
   }
  },
  {
   "cell_type": "code",
   "execution_count": null,
   "outputs": [],
   "source": [
    "df201503.groupby(['ocorrencia_classificacao']).codigo_ocorrencia.count()"
   ],
   "metadata": {
    "collapsed": false,
    "pycharm": {
     "name": "#%%\n"
    }
   }
  },
  {
   "cell_type": "code",
   "execution_count": null,
   "outputs": [],
   "source": [
    "df201503.groupby(['ocorrencia_classificacao']).ocorrencia_aerodromo.count()"
   ],
   "metadata": {
    "collapsed": false,
    "pycharm": {
     "name": "#%%\n"
    }
   }
  },
  {
   "cell_type": "code",
   "execution_count": null,
   "outputs": [],
   "source": [
    "df201503.groupby(['ocorrencia_classificacao']).size()"
   ],
   "metadata": {
    "collapsed": false,
    "pycharm": {
     "name": "#%%\n"
    }
   }
  },
  {
   "cell_type": "code",
   "execution_count": null,
   "outputs": [],
   "source": [
    "df201503.groupby(['ocorrencia_classificacao']).size().sort_values()"
   ],
   "metadata": {
    "collapsed": false,
    "pycharm": {
     "name": "#%%\n"
    }
   }
  },
  {
   "cell_type": "code",
   "execution_count": null,
   "outputs": [],
   "source": [
    "df201503.groupby(['ocorrencia_classificacao']).size().sort_values(ascending=False)"
   ],
   "metadata": {
    "collapsed": false,
    "pycharm": {
     "name": "#%%\n"
    }
   }
  },
  {
   "cell_type": "code",
   "execution_count": null,
   "outputs": [],
   "source": [
    "filtro1 = df_AcidentesAeronaves.ocorrencia_dia.dt.year == 2010\n",
    "filtro2 = df_AcidentesAeronaves.ocorrencia_uf.isin(['SP','MG','ES','RJ'])\n",
    "dfsudeste2010 = df_AcidentesAeronaves.loc[filtro1 & filtro2]\n",
    "dfsudeste2010"
   ],
   "metadata": {
    "collapsed": false,
    "pycharm": {
     "name": "#%%\n"
    }
   }
  },
  {
   "cell_type": "code",
   "execution_count": null,
   "outputs": [],
   "source": [
    "dfsudeste2010.groupby(['ocorrencia_classificacao']).size()"
   ],
   "metadata": {
    "collapsed": false,
    "pycharm": {
     "name": "#%%\n"
    }
   }
  },
  {
   "cell_type": "code",
   "execution_count": null,
   "outputs": [],
   "source": [
    "dfsudeste2010.count()"
   ],
   "metadata": {
    "collapsed": false,
    "pycharm": {
     "name": "#%%\n"
    }
   }
  },
  {
   "cell_type": "code",
   "execution_count": null,
   "outputs": [],
   "source": [
    "dfsudeste2010.groupby(['ocorrencia_uf', 'ocorrencia_classificacao']).size()"
   ],
   "metadata": {
    "collapsed": false,
    "pycharm": {
     "name": "#%%\n"
    }
   }
  },
  {
   "cell_type": "code",
   "execution_count": null,
   "outputs": [],
   "source": [
    "dfsudeste2010.groupby(['ocorrencia_cidade']).size().sort_values(ascending=False)"
   ],
   "metadata": {
    "collapsed": false,
    "pycharm": {
     "name": "#%%\n"
    }
   }
  },
  {
   "cell_type": "code",
   "execution_count": null,
   "outputs": [],
   "source": [
    "filtro1 = dfsudeste2010.ocorrencia_cidade == 'RIO DE JANEIRO'\n",
    "filtro2 = dfsudeste2010.total_recomendacoes > 0\n",
    "dfsudeste2010.loc[filtro1 & filtro2]"
   ],
   "metadata": {
    "collapsed": false,
    "pycharm": {
     "name": "#%%\n"
    }
   }
  },
  {
   "cell_type": "code",
   "execution_count": null,
   "outputs": [],
   "source": [
    "filtro = dfsudeste2010.ocorrencia_cidade == 'RIO DE JANEIRO'\n",
    "dfsudeste2010.loc[filtro].total_recomendacoes.sum()"
   ],
   "metadata": {
    "collapsed": false,
    "pycharm": {
     "name": "#%%\n"
    }
   }
  },
  {
   "cell_type": "code",
   "execution_count": null,
   "outputs": [],
   "source": [
    "dfsudeste2010.groupby(['ocorrencia_aerodromo'], dropna=False).total_recomendacoes.sum()"
   ],
   "metadata": {
    "collapsed": false,
    "pycharm": {
     "name": "#%%\n"
    }
   }
  },
  {
   "cell_type": "code",
   "execution_count": null,
   "outputs": [],
   "source": [
    "dfsudeste2010.groupby(['ocorrencia_cidade']).total_recomendacoes.sum()"
   ],
   "metadata": {
    "collapsed": false,
    "pycharm": {
     "name": "#%%\n"
    }
   }
  },
  {
   "cell_type": "code",
   "execution_count": null,
   "outputs": [],
   "source": [
    "filtro = dfsudeste2010.total_recomendacoes > 0\n",
    "dfsudeste2010.loc[filtro].groupby(['ocorrencia_cidade']).total_recomendacoes.sum().sort_values()"
   ],
   "metadata": {
    "collapsed": false,
    "pycharm": {
     "name": "#%%\n"
    }
   }
  },
  {
   "cell_type": "code",
   "execution_count": null,
   "outputs": [],
   "source": [
    "dfsudeste2010.loc[filtro].groupby(['ocorrencia_cidade', dfsudeste2010.ocorrencia_dia.dt.month]).total_recomendacoes.sum()"
   ],
   "metadata": {
    "collapsed": false,
    "pycharm": {
     "name": "#%%\n"
    }
   }
  },
  {
   "cell_type": "code",
   "execution_count": null,
   "outputs": [],
   "source": [
    "filtro1 = dfsudeste2010.total_recomendacoes > 0\n",
    "filtro2 = dfsudeste2010.ocorrencia_cidade == 'SÃO PAULO'\n",
    "dfsudeste2010.loc[filtro1 & filtro2]"
   ],
   "metadata": {
    "collapsed": false,
    "pycharm": {
     "name": "#%%\n"
    }
   }
  },
  {
   "cell_type": "code",
   "execution_count": null,
   "outputs": [],
   "source": [],
   "metadata": {
    "collapsed": false,
    "pycharm": {
     "name": "#%%\n"
    }
   }
  }
 ],
 "metadata": {
  "kernelspec": {
   "display_name": "Python 3",
   "language": "python",
   "name": "python3"
  },
  "language_info": {
   "codemirror_mode": {
    "name": "ipython",
    "version": 2
   },
   "file_extension": ".py",
   "mimetype": "text/x-python",
   "name": "python",
   "nbconvert_exporter": "python",
   "pygments_lexer": "ipython2",
   "version": "2.7.6"
  }
 },
 "nbformat": 4,
 "nbformat_minor": 0
}